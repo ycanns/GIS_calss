{
 "cells": [
  {
   "cell_type": "markdown",
   "id": "bc835836",
   "metadata": {},
   "source": [
    "# 공간분석과 공간통계: 네트워크분석(경로탐색)\n",
    "#### 가천대학교 공간정보시스템(14842001) 장요한 (ycanns@gachon.ac.kr)\n",
    "\n",
    "---"
   ]
  },
  {
   "cell_type": "markdown",
   "id": "849490f0",
   "metadata": {},
   "source": [
    "#### 1. Initialization"
   ]
  },
  {
   "cell_type": "code",
   "execution_count": 1,
   "id": "ec2f2f18",
   "metadata": {},
   "outputs": [],
   "source": [
    "import sys"
   ]
  },
  {
   "cell_type": "markdown",
   "id": "53534b87",
   "metadata": {},
   "source": [
    "#### 2. Function Prepare to Calculate"
   ]
  },
  {
   "cell_type": "code",
   "execution_count": 2,
   "id": "3782eebe",
   "metadata": {},
   "outputs": [],
   "source": [
    "# 방문하지 않은 노드를 찾아내기 위한 function\n",
    "def to_be_visited():\n",
    "  global visited_and_distance\n",
    "  v = -10\n",
    "    \n",
    "  # 최단(비용)거리에 있는 다음 노드를 찾기\n",
    "  for index in range(number_of_vertices):\n",
    "    if visited_and_distance[index][0] == 0 \\\n",
    "      and (v < 0 or visited_and_distance[index][1] <= \\\n",
    "      visited_and_distance[v][1]):\n",
    "        v = index\n",
    "  return v"
   ]
  },
  {
   "cell_type": "markdown",
   "id": "20cda60d",
   "metadata": {},
   "source": [
    "#### 3. 데이터 만들어보기 (노드 & 링크 행렬 + 인접행렬 매트릭스(adjacency matrix))"
   ]
  },
  {
   "cell_type": "code",
   "execution_count": 3,
   "id": "04745478",
   "metadata": {},
   "outputs": [],
   "source": [
    "adjacency_matrix = [[0, 1, 1, 0, 0, 0, 0],\n",
    "                    [1, 0, 0, 1, 0, 0, 0],\n",
    "                    [1, 0, 0, 1, 0, 0, 0],\n",
    "                    [0, 1, 1, 0, 1, 1, 0],\n",
    "                    [0, 0, 0, 1, 0, 1, 1],\n",
    "                    [0, 0, 0, 1, 1, 0, 1],\n",
    "                    [0, 0, 0, 0, 1, 1, 0]]\n",
    "\n",
    "cost_matrix = [[0, 2, 6, 0, 0, 0, 0],\n",
    "               [2, 0, 0, 5, 0, 0, 0],\n",
    "               [6, 0, 0, 8, 0, 0, 0],\n",
    "               [0, 5, 8, 0,10,15, 0],\n",
    "               [0, 0, 0,10, 0, 6, 2],\n",
    "               [0, 0, 0,15, 6, 0, 6],\n",
    "               [0, 0, 0, 0, 2, 6, 0]]"
   ]
  },
  {
   "cell_type": "code",
   "execution_count": 4,
   "id": "d27ac799",
   "metadata": {},
   "outputs": [
    {
     "data": {
      "text/plain": [
       "[[0, 1, 1, 0, 0, 0, 0],\n",
       " [1, 0, 0, 1, 0, 0, 0],\n",
       " [1, 0, 0, 1, 0, 0, 0],\n",
       " [0, 1, 1, 0, 1, 1, 0],\n",
       " [0, 0, 0, 1, 0, 1, 1],\n",
       " [0, 0, 0, 1, 1, 0, 1],\n",
       " [0, 0, 0, 0, 1, 1, 0]]"
      ]
     },
     "execution_count": 4,
     "metadata": {},
     "output_type": "execute_result"
    }
   ],
   "source": [
    "adjacency_matrix"
   ]
  },
  {
   "cell_type": "code",
   "execution_count": 5,
   "id": "86610552",
   "metadata": {},
   "outputs": [
    {
     "data": {
      "text/plain": [
       "[[0, 2, 6, 0, 0, 0, 0],\n",
       " [2, 0, 0, 5, 0, 0, 0],\n",
       " [6, 0, 0, 8, 0, 0, 0],\n",
       " [0, 5, 8, 0, 10, 15, 0],\n",
       " [0, 0, 0, 10, 0, 6, 2],\n",
       " [0, 0, 0, 15, 6, 0, 6],\n",
       " [0, 0, 0, 0, 2, 6, 0]]"
      ]
     },
     "execution_count": 5,
     "metadata": {},
     "output_type": "execute_result"
    }
   ],
   "source": [
    "cost_matrix"
   ]
  },
  {
   "cell_type": "markdown",
   "id": "fe81197b",
   "metadata": {},
   "source": [
    "#### 4. [인접행렬 매트릭스 + 비용 매트릭스]로 네트워크 생성하기"
   ]
  },
  {
   "cell_type": "code",
   "execution_count": 6,
   "id": "40d0f118",
   "metadata": {},
   "outputs": [
    {
     "name": "stdout",
     "output_type": "stream",
     "text": [
      "7\n"
     ]
    }
   ],
   "source": [
    "number_of_vertices = len(adjacency_matrix[0])\n",
    "print(number_of_vertices)"
   ]
  },
  {
   "cell_type": "markdown",
   "id": "7048819f",
   "metadata": {},
   "source": [
    "#### 5. dijkstra 계산을 위한 초기화"
   ]
  },
  {
   "cell_type": "code",
   "execution_count": 7,
   "id": "32d37be1",
   "metadata": {},
   "outputs": [],
   "source": [
    "# 방문여부와 비용 등을 갱신하기 위한 항목 (방문하지 않은 노드에 대해서는 임의의 무한대 값 할당)\n",
    "visited_and_distance = [[0, 0]]\n",
    "for i in range(number_of_vertices-1):\n",
    "    visited_and_distance.append([0, sys.maxsize])"
   ]
  },
  {
   "cell_type": "code",
   "execution_count": 8,
   "id": "4573d413",
   "metadata": {},
   "outputs": [
    {
     "data": {
      "text/plain": [
       "[[0, 0],\n",
       " [0, 9223372036854775807],\n",
       " [0, 9223372036854775807],\n",
       " [0, 9223372036854775807],\n",
       " [0, 9223372036854775807],\n",
       " [0, 9223372036854775807],\n",
       " [0, 9223372036854775807]]"
      ]
     },
     "execution_count": 8,
     "metadata": {},
     "output_type": "execute_result"
    }
   ],
   "source": [
    "visited_and_distance"
   ]
  },
  {
   "cell_type": "markdown",
   "id": "39c57b04",
   "metadata": {},
   "source": [
    "#### 6. dijkstra 실행"
   ]
  },
  {
   "cell_type": "code",
   "execution_count": 9,
   "id": "38ebed94",
   "metadata": {},
   "outputs": [
    {
     "name": "stdout",
     "output_type": "stream",
     "text": [
      "[[1, 0], [0, 2], [0, 6], [0, 9223372036854775807], [0, 9223372036854775807], [0, 9223372036854775807], [0, 9223372036854775807]]\n",
      "[[1, 0], [1, 2], [0, 6], [0, 7], [0, 9223372036854775807], [0, 9223372036854775807], [0, 9223372036854775807]]\n",
      "[[1, 0], [1, 2], [1, 6], [0, 7], [0, 9223372036854775807], [0, 9223372036854775807], [0, 9223372036854775807]]\n",
      "[[1, 0], [1, 2], [1, 6], [1, 7], [0, 17], [0, 22], [0, 9223372036854775807]]\n",
      "[[1, 0], [1, 2], [1, 6], [1, 7], [1, 17], [0, 22], [0, 19]]\n",
      "[[1, 0], [1, 2], [1, 6], [1, 7], [1, 17], [0, 22], [1, 19]]\n",
      "[[1, 0], [1, 2], [1, 6], [1, 7], [1, 17], [1, 22], [1, 19]]\n"
     ]
    }
   ],
   "source": [
    "for vertex in range(number_of_vertices):\n",
    "    \n",
    "    # 다음의 방문 노드 찾기.\n",
    "    to_visit = to_be_visited()\n",
    "    \n",
    "    for neighbor_index in range(number_of_vertices):\n",
    "        \n",
    "        # 방문하지 않은 모든 인접 노드와의 새로운 거리를 계산하기\n",
    "        if adjacency_matrix[to_visit][neighbor_index] == 1 and visited_and_distance[neighbor_index][0] == 0:\n",
    "            new_distance = visited_and_distance[to_visit][1] + cost_matrix[to_visit][neighbor_index]\n",
    "            \n",
    "            # 새롭게 계산된 거리가 기존 계산된 거리보다 더 짧은지 아닌지를 확인해보기\n",
    "            if visited_and_distance[neighbor_index][1] > new_distance:\n",
    "                visited_and_distance[neighbor_index][1] = new_distance\n",
    "                \n",
    "    # 이전에 찾은 노드 입력해놓기\n",
    "    visited_and_distance[to_visit][0] = 1\n",
    "    # 계산단계 확인을 위한 출력\n",
    "    print(visited_and_distance)"
   ]
  },
  {
   "cell_type": "code",
   "execution_count": 10,
   "id": "65dc802e",
   "metadata": {},
   "outputs": [
    {
     "name": "stdout",
     "output_type": "stream",
     "text": [
      "The shortest distance of  A  from the source vertex a is: 0\n",
      "The shortest distance of  B  from the source vertex a is: 2\n",
      "The shortest distance of  C  from the source vertex a is: 6\n",
      "The shortest distance of  D  from the source vertex a is: 7\n",
      "The shortest distance of  E  from the source vertex a is: 17\n",
      "The shortest distance of  F  from the source vertex a is: 22\n",
      "The shortest distance of  G  from the source vertex a is: 19\n"
     ]
    }
   ],
   "source": [
    "i = 0 \n",
    "\n",
    "# 최종 계산된 각 노드의 최단거리 출력해보기\n",
    "for distance in visited_and_distance:\n",
    "  print(\"The shortest distance of \",chr(ord('A') + i),\" from the source vertex a is:\",distance[1])\n",
    "  i = i + 1"
   ]
  },
  {
   "cell_type": "markdown",
   "id": "fb77d9c5",
   "metadata": {},
   "source": [
    "#### END CODE"
   ]
  }
 ],
 "metadata": {
  "kernelspec": {
   "display_name": "Python 3 (ipykernel)",
   "language": "python",
   "name": "python3"
  },
  "language_info": {
   "codemirror_mode": {
    "name": "ipython",
    "version": 3
   },
   "file_extension": ".py",
   "mimetype": "text/x-python",
   "name": "python",
   "nbconvert_exporter": "python",
   "pygments_lexer": "ipython3",
   "version": "3.7.9"
  }
 },
 "nbformat": 4,
 "nbformat_minor": 5
}
