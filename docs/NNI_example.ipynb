{
 "cells": [
  {
   "cell_type": "markdown",
   "metadata": {
    "id": "XefVJrise9c_"
   },
   "source": [
    "# 공간분석과 공간통계: 최근린지수(Nearest Neighbor Index, NNI)\n",
    "### 가천대학교 공간정보시스템(14842001) 장요한 (ycanns@gachon.ac.kr)\n",
    "-------------"
   ]
  },
  {
   "cell_type": "markdown",
   "metadata": {
    "id": "MckxvAR4fJQd"
   },
   "source": [
    "#### 1. Initialization"
   ]
  },
  {
   "cell_type": "code",
   "execution_count": 1,
   "metadata": {
    "colab": {
     "base_uri": "https://localhost:8080/"
    },
    "id": "zbypWb8WdVzw",
    "outputId": "f239da09-44ff-450a-ba89-b8bf2c4cdf06"
   },
   "outputs": [
    {
     "name": "stdout",
     "output_type": "stream",
     "text": [
      "Looking in indexes: https://pypi.org/simple, https://us-python.pkg.dev/colab-wheels/public/simple/\n",
      "Collecting geopandas\n",
      "  Downloading geopandas-0.13.0-py3-none-any.whl (1.1 MB)\n",
      "\u001b[2K     \u001b[90m━━━━━━━━━━━━━━━━━━━━━━━━━━━━━━━━━━━━━━━━\u001b[0m \u001b[32m1.1/1.1 MB\u001b[0m \u001b[31m5.8 MB/s\u001b[0m eta \u001b[36m0:00:00\u001b[0m\n",
      "\u001b[?25hCollecting fiona>=1.8.19 (from geopandas)\n",
      "  Downloading Fiona-1.9.4.post1-cp310-cp310-manylinux_2_17_x86_64.manylinux2014_x86_64.whl (16.4 MB)\n",
      "\u001b[2K     \u001b[90m━━━━━━━━━━━━━━━━━━━━━━━━━━━━━━━━━━━━━━━━\u001b[0m \u001b[32m16.4/16.4 MB\u001b[0m \u001b[31m27.5 MB/s\u001b[0m eta \u001b[36m0:00:00\u001b[0m\n",
      "\u001b[?25hRequirement already satisfied: packaging in /usr/local/lib/python3.10/dist-packages (from geopandas) (23.1)\n",
      "Requirement already satisfied: pandas>=1.1.0 in /usr/local/lib/python3.10/dist-packages (from geopandas) (1.5.3)\n",
      "Collecting pyproj>=3.0.1 (from geopandas)\n",
      "  Downloading pyproj-3.5.0-cp310-cp310-manylinux_2_17_x86_64.manylinux2014_x86_64.whl (7.7 MB)\n",
      "\u001b[2K     \u001b[90m━━━━━━━━━━━━━━━━━━━━━━━━━━━━━━━━━━━━━━━━\u001b[0m \u001b[32m7.7/7.7 MB\u001b[0m \u001b[31m57.7 MB/s\u001b[0m eta \u001b[36m0:00:00\u001b[0m\n",
      "\u001b[?25hRequirement already satisfied: shapely>=1.7.1 in /usr/local/lib/python3.10/dist-packages (from geopandas) (2.0.1)\n",
      "Requirement already satisfied: attrs>=19.2.0 in /usr/local/lib/python3.10/dist-packages (from fiona>=1.8.19->geopandas) (23.1.0)\n",
      "Requirement already satisfied: certifi in /usr/local/lib/python3.10/dist-packages (from fiona>=1.8.19->geopandas) (2022.12.7)\n",
      "Requirement already satisfied: click~=8.0 in /usr/local/lib/python3.10/dist-packages (from fiona>=1.8.19->geopandas) (8.1.3)\n",
      "Collecting click-plugins>=1.0 (from fiona>=1.8.19->geopandas)\n",
      "  Downloading click_plugins-1.1.1-py2.py3-none-any.whl (7.5 kB)\n",
      "Collecting cligj>=0.5 (from fiona>=1.8.19->geopandas)\n",
      "  Downloading cligj-0.7.2-py3-none-any.whl (7.1 kB)\n",
      "Requirement already satisfied: six in /usr/local/lib/python3.10/dist-packages (from fiona>=1.8.19->geopandas) (1.16.0)\n",
      "Requirement already satisfied: python-dateutil>=2.8.1 in /usr/local/lib/python3.10/dist-packages (from pandas>=1.1.0->geopandas) (2.8.2)\n",
      "Requirement already satisfied: pytz>=2020.1 in /usr/local/lib/python3.10/dist-packages (from pandas>=1.1.0->geopandas) (2022.7.1)\n",
      "Requirement already satisfied: numpy>=1.21.0 in /usr/local/lib/python3.10/dist-packages (from pandas>=1.1.0->geopandas) (1.22.4)\n",
      "Installing collected packages: pyproj, cligj, click-plugins, fiona, geopandas\n",
      "Successfully installed click-plugins-1.1.1 cligj-0.7.2 fiona-1.9.4.post1 geopandas-0.13.0 pyproj-3.5.0\n"
     ]
    }
   ],
   "source": [
    "import sys\n",
    "!{sys.executable} -m pip install geopandas\n",
    "# ! pip install geopandas"
   ]
  },
  {
   "cell_type": "code",
   "execution_count": 2,
   "metadata": {
    "id": "8RHmR3BidXEG"
   },
   "outputs": [],
   "source": [
    "import geopandas as gpd\n",
    "import numpy as np, matplotlib.pyplot as plt\n",
    "from scipy.spatial import cKDTree\n",
    "\n",
    "import os"
   ]
  },
  {
   "cell_type": "markdown",
   "metadata": {
    "id": "9pHr8Zk-fKzb"
   },
   "source": [
    "#### 2. supply points (전국 시도 중심점 예시)"
   ]
  },
  {
   "cell_type": "code",
   "execution_count": 3,
   "metadata": {
    "id": "6BBPjZAddm1f"
   },
   "outputs": [],
   "source": [
    "coordinates = np.array([(37.55724163, 126.9871252), (35.16218448, 129.054632), (35.85547861, 128.5793766), (37.46044164, 126.7004407), (35.1481661, 126.8521798), (36.34082679, 127.3987915), (35.5470358, 129.2569736), (37.45758953, 127.3429823), (37.8087934, 128.2723599), (36.76601606, 127.7690261), (36.54486254, 126.9145592), (35.73520285, 127.1688519), (34.87756336, 126.9620679), (36.16849991, 128.987314), (35.36637585, 128.2590894), (33.38684247, 126.5548156), (36.51783299, 127.2853503)])\n"
   ]
  },
  {
   "cell_type": "markdown",
   "metadata": {
    "id": "GJ2DyRAEfZUV"
   },
   "source": [
    "#### 3. Data 전처리"
   ]
  },
  {
   "cell_type": "code",
   "execution_count": 4,
   "metadata": {
    "id": "Ssv2YxFEdoyH"
   },
   "outputs": [],
   "source": [
    "# Extract latitude and longitude values\n",
    "latitudes = coordinates[:, 0]\n",
    "longitudes = coordinates[:, 1]"
   ]
  },
  {
   "cell_type": "markdown",
   "metadata": {
    "id": "SSZuNkykfbxD"
   },
   "source": [
    "#### 4.인접 점들 간의 최근린 거리 계산"
   ]
  },
  {
   "cell_type": "code",
   "execution_count": 5,
   "metadata": {
    "id": "_pgOtHQXfcGu"
   },
   "outputs": [],
   "source": [
    "# Calculate nearest neighbor distances\n",
    "tree = cKDTree(coordinates)\n",
    "distances, _ = tree.query(coordinates, k=2)"
   ]
  },
  {
   "cell_type": "markdown",
   "metadata": {
    "id": "wKzCFlV8fvW4"
   },
   "source": [
    "#### 5. 계산된 인접 근린값의 평균 산출"
   ]
  },
  {
   "cell_type": "code",
   "execution_count": 6,
   "metadata": {
    "id": "VJB3RrV1fkR9"
   },
   "outputs": [],
   "source": [
    "# Calculate observed nearest neighbor distance\n",
    "observed_distance = np.mean(distances[:, 1])"
   ]
  },
  {
   "cell_type": "markdown",
   "metadata": {
    "id": "K0FUKSbUf3Od"
   },
   "source": [
    "#### 6. 랜덤(random) 포인트를 생성하여 비교해보기"
   ]
  },
  {
   "cell_type": "code",
   "execution_count": 7,
   "metadata": {
    "id": "mNaAJYZBfkPT"
   },
   "outputs": [],
   "source": [
    "# Generate random point pattern for comparison\n",
    "min_lat, max_lat = min(latitudes), max(latitudes)\n",
    "min_lon, max_lon = min(longitudes), max(longitudes)\n",
    "random_latitudes = np.random.uniform(min_lat, max_lat, size=len(coordinates))\n",
    "random_longitudes = np.random.uniform(min_lon, max_lon, size=len(coordinates))\n",
    "random_coordinates = np.column_stack((random_latitudes, random_longitudes))\n"
   ]
  },
  {
   "cell_type": "markdown",
   "metadata": {
    "id": "h2LegXVJgAtq"
   },
   "source": [
    "#### 7. 랜덤하게 생성된 포인트의 최근린거리 및 평균값 산출"
   ]
  },
  {
   "cell_type": "code",
   "execution_count": 8,
   "metadata": {
    "id": "ZNV6ZsoPfkM7"
   },
   "outputs": [],
   "source": [
    "# Calculate nearest neighbor distances for random pattern\n",
    "random_tree = cKDTree(random_coordinates)\n",
    "random_distances, _ = random_tree.query(random_coordinates, k=2)\n",
    "\n",
    "# Calculate expected nearest neighbor distance\n",
    "expected_distance = np.mean(random_distances[:, 1])"
   ]
  },
  {
   "cell_type": "markdown",
   "metadata": {
    "id": "bp-T-Eq3k1gx"
   },
   "source": [
    "8. 랜덤하게 생성된 근린값과 샘플의 근린값을 비교하여 지수 산출"
   ]
  },
  {
   "cell_type": "code",
   "execution_count": 10,
   "metadata": {
    "id": "btoOWMJJkL-m"
   },
   "outputs": [],
   "source": [
    "# Calculate nearest neighbor index\n",
    "nearest_neighbor_index = observed_distance / expected_distance"
   ]
  },
  {
   "cell_type": "markdown",
   "metadata": {
    "id": "WQesxnwfgIOl"
   },
   "source": [
    "#### 9. 시각화"
   ]
  },
  {
   "cell_type": "code",
   "execution_count": 11,
   "metadata": {
    "colab": {
     "base_uri": "https://localhost:8080/",
     "height": 524
    },
    "id": "W61_7uVdfkKp",
    "outputId": "215ac34c-36b8-4cd2-e890-3d7808990377"
   },
   "outputs": [
    {
     "data": {
      "image/png": "[encoded data removed]",
      "text/plain": [
       "<Figure size 640x480 with 1 Axes>"
      ]
     },
     "metadata": {},
     "output_type": "display_data"
    },
    {
     "name": "stdout",
     "output_type": "stream",
     "text": [
      "Observed nearest neighbor distance: 0.5037670979524154\n",
      "Expected nearest neighbor distance: 0.4892972964842746\n",
      "Nearest neighbor index: 1.0295726168366552\n"
     ]
    }
   ],
   "source": [
    "# Visualization\n",
    "plt.scatter(latitudes, longitudes, color='blue', label='Sample Coordinates')\n",
    "plt.scatter(random_latitudes, random_longitudes, color='gray', label='Random Pattern')\n",
    "plt.xlabel('Latitude')\n",
    "plt.ylabel('Longitude')\n",
    "plt.title('Nearest Neighbor Analysis')\n",
    "plt.legend()\n",
    "\n",
    "plt.show()\n",
    "\n",
    "print(\"Observed nearest neighbor distance:\", observed_distance)\n",
    "print(\"Expected nearest neighbor distance:\", expected_distance)\n",
    "print(\"Nearest neighbor index:\", nearest_neighbor_index)"
   ]
  },
  {
   "cell_type": "markdown",
   "metadata": {
    "id": "h5aFdPTvgMI5"
   },
   "source": [
    "END CODE"
   ]
  }
 ],
 "metadata": {
  "colab": {
   "provenance": []
  },
  "kernelspec": {
   "display_name": "Python 3",
   "language": "python",
   "name": "python3"
  },
  "language_info": {
   "codemirror_mode": {
    "name": "ipython",
    "version": 3
   },
   "file_extension": ".py",
   "mimetype": "text/x-python",
   "name": "python",
   "nbconvert_exporter": "python",
   "pygments_lexer": "ipython3",
   "version": "3.7.4"
  }
 },
 "nbformat": 4,
 "nbformat_minor": 1
}
