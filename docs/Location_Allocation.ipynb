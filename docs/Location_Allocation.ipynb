{
 "cells": [
  {
   "cell_type": "markdown",
   "id": "90c57f20",
   "metadata": {},
   "source": [
    "## 공간분석과 공간통계: 자원의 배분 (Location-allocation)\n",
    "#### 가천대학교 공간정보시스템(14842001) 장요한 (ycanns@gachon.ac.kr)"
   ]
  },
  {
   "cell_type": "markdown",
   "id": "01db671f",
   "metadata": {},
   "source": [
    "#### 1. Initialization"
   ]
  },
  {
   "cell_type": "code",
   "execution_count": 1,
   "id": "99bc7c69",
   "metadata": {},
   "outputs": [
    {
     "name": "stdout",
     "output_type": "stream",
     "text": [
      "Requirement already satisfied: pulp in c:\\users\\krihs\\appdata\\local\\programs\\python\\python37\\lib\\site-packages (2.7.0)\n"
     ]
    },
    {
     "name": "stderr",
     "output_type": "stream",
     "text": [
      "\n",
      "[notice] A new release of pip is available: 23.0 -> 23.1.2\n",
      "[notice] To update, run: python.exe -m pip install --upgrade pip\n"
     ]
    }
   ],
   "source": [
    "import sys\n",
    "!{sys.executable} -m pip install pulp\n",
    "# ! pip install pulp\n",
    "\n",
    "import pulp\n",
    "\n",
    "# 시설 운영비용\n",
    "facilities = [\"facility_1\", \"facility_2\", \"facility_3\"]\n",
    "zones = [\"zone_1\", \"zone_2\", \"zone_3\", \"zone_4\", \"zone_5\", \"zone_6\"]\n",
    "\n",
    "# 시설에서 지역(군)까지의 거리 또는 비용 (Cost_ij)\n",
    "facility_cost = {\"facility_1\": 100, \"facility_2\": 150, \"facility_3\": 200}\n",
    "distance_cost = {\n",
    "    (\"facility_1\", \"zone_1\"): 5,\n",
    "    (\"facility_1\", \"zone_2\"): 3,\n",
    "    (\"facility_1\", \"zone_3\"): 4,\n",
    "    (\"facility_1\", \"zone_4\"): 7,\n",
    "    (\"facility_1\", \"zone_5\"): 9,\n",
    "    (\"facility_1\", \"zone_6\"): 4,\n",
    "    (\"facility_2\", \"zone_1\"): 3,\n",
    "    (\"facility_2\", \"zone_2\"): 9,\n",
    "    (\"facility_2\", \"zone_3\"): 7,\n",
    "    (\"facility_2\", \"zone_4\"): 8,\n",
    "    (\"facility_2\", \"zone_5\"): 6,\n",
    "    (\"facility_2\", \"zone_6\"): 3,\n",
    "    (\"facility_3\", \"zone_1\"): 6,\n",
    "    (\"facility_3\", \"zone_2\"): 6,\n",
    "    (\"facility_3\", \"zone_3\"): 3,\n",
    "    (\"facility_3\", \"zone_4\"): 3,\n",
    "    (\"facility_3\", \"zone_5\"): 5,\n",
    "    (\"facility_3\", \"zone_6\"): 6,\n",
    "}"
   ]
  },
  {
   "cell_type": "code",
   "execution_count": 2,
   "id": "c019e84e",
   "metadata": {},
   "outputs": [
    {
     "data": {
      "text/plain": [
       "{'facility_1': 100, 'facility_2': 150, 'facility_3': 200}"
      ]
     },
     "execution_count": 2,
     "metadata": {},
     "output_type": "execute_result"
    }
   ],
   "source": [
    "facility_cost"
   ]
  },
  {
   "cell_type": "code",
   "execution_count": 3,
   "id": "73130128",
   "metadata": {},
   "outputs": [
    {
     "data": {
      "text/plain": [
       "{('facility_1', 'zone_1'): 5,\n",
       " ('facility_1', 'zone_2'): 3,\n",
       " ('facility_1', 'zone_3'): 4,\n",
       " ('facility_1', 'zone_4'): 7,\n",
       " ('facility_1', 'zone_5'): 9,\n",
       " ('facility_1', 'zone_6'): 4,\n",
       " ('facility_2', 'zone_1'): 3,\n",
       " ('facility_2', 'zone_2'): 9,\n",
       " ('facility_2', 'zone_3'): 7,\n",
       " ('facility_2', 'zone_4'): 8,\n",
       " ('facility_2', 'zone_5'): 6,\n",
       " ('facility_2', 'zone_6'): 3,\n",
       " ('facility_3', 'zone_1'): 6,\n",
       " ('facility_3', 'zone_2'): 6,\n",
       " ('facility_3', 'zone_3'): 3,\n",
       " ('facility_3', 'zone_4'): 3,\n",
       " ('facility_3', 'zone_5'): 5,\n",
       " ('facility_3', 'zone_6'): 6}"
      ]
     },
     "execution_count": 3,
     "metadata": {},
     "output_type": "execute_result"
    }
   ],
   "source": [
    "distance_cost"
   ]
  },
  {
   "cell_type": "markdown",
   "id": "90ab4ba0",
   "metadata": {},
   "source": [
    "#### 2. Create a Problem Instance & Decision Variables"
   ]
  },
  {
   "cell_type": "code",
   "execution_count": 4,
   "id": "4e7db8a1",
   "metadata": {},
   "outputs": [
    {
     "name": "stderr",
     "output_type": "stream",
     "text": [
      "C:\\Users\\KRIHS\\AppData\\Local\\Programs\\Python\\Python37\\lib\\site-packages\\pulp\\pulp.py:1352: UserWarning: Spaces are not permitted in the name. Converted to '_'\n",
      "  warnings.warn(\"Spaces are not permitted in the name. Converted to '_'\")\n"
     ]
    }
   ],
   "source": [
    "problem = pulp.LpProblem(\"Location Allocation\", pulp.LpMinimize)\n",
    "\n",
    "# Create decision variables\n",
    "x = pulp.LpVariable.dicts(\"x\", [(f, z) for f in facilities for z in zones], cat=pulp.LpBinary)\n",
    "y = pulp.LpVariable.dicts(\"y\", facilities, cat=pulp.LpBinary)\n"
   ]
  },
  {
   "cell_type": "code",
   "execution_count": 5,
   "id": "5f94e3ac",
   "metadata": {},
   "outputs": [
    {
     "data": {
      "text/plain": [
       "Location_Allocation:\n",
       "MINIMIZE\n",
       "None\n",
       "VARIABLES"
      ]
     },
     "execution_count": 5,
     "metadata": {},
     "output_type": "execute_result"
    }
   ],
   "source": [
    "problem"
   ]
  },
  {
   "cell_type": "code",
   "execution_count": 6,
   "id": "0f8a8eb8",
   "metadata": {},
   "outputs": [
    {
     "data": {
      "text/plain": [
       "{('facility_1', 'zone_1'): x_('facility_1',_'zone_1'),\n",
       " ('facility_1', 'zone_2'): x_('facility_1',_'zone_2'),\n",
       " ('facility_1', 'zone_3'): x_('facility_1',_'zone_3'),\n",
       " ('facility_1', 'zone_4'): x_('facility_1',_'zone_4'),\n",
       " ('facility_1', 'zone_5'): x_('facility_1',_'zone_5'),\n",
       " ('facility_1', 'zone_6'): x_('facility_1',_'zone_6'),\n",
       " ('facility_2', 'zone_1'): x_('facility_2',_'zone_1'),\n",
       " ('facility_2', 'zone_2'): x_('facility_2',_'zone_2'),\n",
       " ('facility_2', 'zone_3'): x_('facility_2',_'zone_3'),\n",
       " ('facility_2', 'zone_4'): x_('facility_2',_'zone_4'),\n",
       " ('facility_2', 'zone_5'): x_('facility_2',_'zone_5'),\n",
       " ('facility_2', 'zone_6'): x_('facility_2',_'zone_6'),\n",
       " ('facility_3', 'zone_1'): x_('facility_3',_'zone_1'),\n",
       " ('facility_3', 'zone_2'): x_('facility_3',_'zone_2'),\n",
       " ('facility_3', 'zone_3'): x_('facility_3',_'zone_3'),\n",
       " ('facility_3', 'zone_4'): x_('facility_3',_'zone_4'),\n",
       " ('facility_3', 'zone_5'): x_('facility_3',_'zone_5'),\n",
       " ('facility_3', 'zone_6'): x_('facility_3',_'zone_6')}"
      ]
     },
     "execution_count": 6,
     "metadata": {},
     "output_type": "execute_result"
    }
   ],
   "source": [
    "x"
   ]
  },
  {
   "cell_type": "code",
   "execution_count": 7,
   "id": "a6e3f6f8",
   "metadata": {},
   "outputs": [
    {
     "data": {
      "text/plain": [
       "{'facility_1': y_facility_1,\n",
       " 'facility_2': y_facility_2,\n",
       " 'facility_3': y_facility_3}"
      ]
     },
     "execution_count": 7,
     "metadata": {},
     "output_type": "execute_result"
    }
   ],
   "source": [
    "y"
   ]
  },
  {
   "cell_type": "markdown",
   "id": "d308f234",
   "metadata": {},
   "source": [
    "#### 3. Set Objective Function"
   ]
  },
  {
   "cell_type": "code",
   "execution_count": 8,
   "id": "f8426ae1",
   "metadata": {},
   "outputs": [],
   "source": [
    "problem += pulp.lpSum(facility_cost[f] * y[f] for f in facilities) + \\\n",
    "           pulp.lpSum(distance_cost[(f, z)] * x[(f, z)] for f in facilities for z in zones)"
   ]
  },
  {
   "cell_type": "code",
   "execution_count": 9,
   "id": "e4316725",
   "metadata": {},
   "outputs": [
    {
     "data": {
      "text/plain": [
       "Location_Allocation:\n",
       "MINIMIZE\n",
       "5*x_('facility_1',_'zone_1') + 3*x_('facility_1',_'zone_2') + 4*x_('facility_1',_'zone_3') + 7*x_('facility_1',_'zone_4') + 9*x_('facility_1',_'zone_5') + 4*x_('facility_1',_'zone_6') + 3*x_('facility_2',_'zone_1') + 9*x_('facility_2',_'zone_2') + 7*x_('facility_2',_'zone_3') + 8*x_('facility_2',_'zone_4') + 6*x_('facility_2',_'zone_5') + 3*x_('facility_2',_'zone_6') + 6*x_('facility_3',_'zone_1') + 6*x_('facility_3',_'zone_2') + 3*x_('facility_3',_'zone_3') + 3*x_('facility_3',_'zone_4') + 5*x_('facility_3',_'zone_5') + 6*x_('facility_3',_'zone_6') + 100*y_facility_1 + 150*y_facility_2 + 200*y_facility_3 + 0\n",
       "VARIABLES\n",
       "0 <= x_('facility_1',_'zone_1') <= 1 Integer\n",
       "0 <= x_('facility_1',_'zone_2') <= 1 Integer\n",
       "0 <= x_('facility_1',_'zone_3') <= 1 Integer\n",
       "0 <= x_('facility_1',_'zone_4') <= 1 Integer\n",
       "0 <= x_('facility_1',_'zone_5') <= 1 Integer\n",
       "0 <= x_('facility_1',_'zone_6') <= 1 Integer\n",
       "0 <= x_('facility_2',_'zone_1') <= 1 Integer\n",
       "0 <= x_('facility_2',_'zone_2') <= 1 Integer\n",
       "0 <= x_('facility_2',_'zone_3') <= 1 Integer\n",
       "0 <= x_('facility_2',_'zone_4') <= 1 Integer\n",
       "0 <= x_('facility_2',_'zone_5') <= 1 Integer\n",
       "0 <= x_('facility_2',_'zone_6') <= 1 Integer\n",
       "0 <= x_('facility_3',_'zone_1') <= 1 Integer\n",
       "0 <= x_('facility_3',_'zone_2') <= 1 Integer\n",
       "0 <= x_('facility_3',_'zone_3') <= 1 Integer\n",
       "0 <= x_('facility_3',_'zone_4') <= 1 Integer\n",
       "0 <= x_('facility_3',_'zone_5') <= 1 Integer\n",
       "0 <= x_('facility_3',_'zone_6') <= 1 Integer\n",
       "0 <= y_facility_1 <= 1 Integer\n",
       "0 <= y_facility_2 <= 1 Integer\n",
       "0 <= y_facility_3 <= 1 Integer"
      ]
     },
     "execution_count": 9,
     "metadata": {},
     "output_type": "execute_result"
    }
   ],
   "source": [
    "problem"
   ]
  },
  {
   "cell_type": "markdown",
   "id": "a34e683a",
   "metadata": {},
   "source": [
    "#### 4. Set Constraints"
   ]
  },
  {
   "cell_type": "code",
   "execution_count": 10,
   "id": "9749f905",
   "metadata": {},
   "outputs": [],
   "source": [
    "for z in zones:\n",
    "    problem += pulp.lpSum(x[(f, z)] for f in facilities) == 1\n",
    "\n",
    "for f in facilities:\n",
    "    problem += pulp.lpSum(x[(f, z)] for z in zones) <= 3 * y[f]"
   ]
  },
  {
   "cell_type": "code",
   "execution_count": 11,
   "id": "e55295a4",
   "metadata": {},
   "outputs": [
    {
     "data": {
      "text/plain": [
       "Location_Allocation:\n",
       "MINIMIZE\n",
       "5*x_('facility_1',_'zone_1') + 3*x_('facility_1',_'zone_2') + 4*x_('facility_1',_'zone_3') + 7*x_('facility_1',_'zone_4') + 9*x_('facility_1',_'zone_5') + 4*x_('facility_1',_'zone_6') + 3*x_('facility_2',_'zone_1') + 9*x_('facility_2',_'zone_2') + 7*x_('facility_2',_'zone_3') + 8*x_('facility_2',_'zone_4') + 6*x_('facility_2',_'zone_5') + 3*x_('facility_2',_'zone_6') + 6*x_('facility_3',_'zone_1') + 6*x_('facility_3',_'zone_2') + 3*x_('facility_3',_'zone_3') + 3*x_('facility_3',_'zone_4') + 5*x_('facility_3',_'zone_5') + 6*x_('facility_3',_'zone_6') + 100*y_facility_1 + 150*y_facility_2 + 200*y_facility_3 + 0\n",
       "SUBJECT TO\n",
       "_C1: x_('facility_1',_'zone_1') + x_('facility_2',_'zone_1')\n",
       " + x_('facility_3',_'zone_1') = 1\n",
       "\n",
       "_C2: x_('facility_1',_'zone_2') + x_('facility_2',_'zone_2')\n",
       " + x_('facility_3',_'zone_2') = 1\n",
       "\n",
       "_C3: x_('facility_1',_'zone_3') + x_('facility_2',_'zone_3')\n",
       " + x_('facility_3',_'zone_3') = 1\n",
       "\n",
       "_C4: x_('facility_1',_'zone_4') + x_('facility_2',_'zone_4')\n",
       " + x_('facility_3',_'zone_4') = 1\n",
       "\n",
       "_C5: x_('facility_1',_'zone_5') + x_('facility_2',_'zone_5')\n",
       " + x_('facility_3',_'zone_5') = 1\n",
       "\n",
       "_C6: x_('facility_1',_'zone_6') + x_('facility_2',_'zone_6')\n",
       " + x_('facility_3',_'zone_6') = 1\n",
       "\n",
       "_C7: x_('facility_1',_'zone_1') + x_('facility_1',_'zone_2')\n",
       " + x_('facility_1',_'zone_3') + x_('facility_1',_'zone_4')\n",
       " + x_('facility_1',_'zone_5') + x_('facility_1',_'zone_6') - 3 y_facility_1\n",
       " <= 0\n",
       "\n",
       "_C8: x_('facility_2',_'zone_1') + x_('facility_2',_'zone_2')\n",
       " + x_('facility_2',_'zone_3') + x_('facility_2',_'zone_4')\n",
       " + x_('facility_2',_'zone_5') + x_('facility_2',_'zone_6') - 3 y_facility_2\n",
       " <= 0\n",
       "\n",
       "_C9: x_('facility_3',_'zone_1') + x_('facility_3',_'zone_2')\n",
       " + x_('facility_3',_'zone_3') + x_('facility_3',_'zone_4')\n",
       " + x_('facility_3',_'zone_5') + x_('facility_3',_'zone_6') - 3 y_facility_3\n",
       " <= 0\n",
       "\n",
       "VARIABLES\n",
       "0 <= x_('facility_1',_'zone_1') <= 1 Integer\n",
       "0 <= x_('facility_1',_'zone_2') <= 1 Integer\n",
       "0 <= x_('facility_1',_'zone_3') <= 1 Integer\n",
       "0 <= x_('facility_1',_'zone_4') <= 1 Integer\n",
       "0 <= x_('facility_1',_'zone_5') <= 1 Integer\n",
       "0 <= x_('facility_1',_'zone_6') <= 1 Integer\n",
       "0 <= x_('facility_2',_'zone_1') <= 1 Integer\n",
       "0 <= x_('facility_2',_'zone_2') <= 1 Integer\n",
       "0 <= x_('facility_2',_'zone_3') <= 1 Integer\n",
       "0 <= x_('facility_2',_'zone_4') <= 1 Integer\n",
       "0 <= x_('facility_2',_'zone_5') <= 1 Integer\n",
       "0 <= x_('facility_2',_'zone_6') <= 1 Integer\n",
       "0 <= x_('facility_3',_'zone_1') <= 1 Integer\n",
       "0 <= x_('facility_3',_'zone_2') <= 1 Integer\n",
       "0 <= x_('facility_3',_'zone_3') <= 1 Integer\n",
       "0 <= x_('facility_3',_'zone_4') <= 1 Integer\n",
       "0 <= x_('facility_3',_'zone_5') <= 1 Integer\n",
       "0 <= x_('facility_3',_'zone_6') <= 1 Integer\n",
       "0 <= y_facility_1 <= 1 Integer\n",
       "0 <= y_facility_2 <= 1 Integer\n",
       "0 <= y_facility_3 <= 1 Integer"
      ]
     },
     "execution_count": 11,
     "metadata": {},
     "output_type": "execute_result"
    }
   ],
   "source": [
    "problem"
   ]
  },
  {
   "cell_type": "markdown",
   "id": "1b565861",
   "metadata": {},
   "source": [
    "#### 5. Solve the Problem"
   ]
  },
  {
   "cell_type": "code",
   "execution_count": 12,
   "id": "2b3a8a79",
   "metadata": {},
   "outputs": [
    {
     "data": {
      "text/plain": [
       "1"
      ]
     },
     "execution_count": 12,
     "metadata": {},
     "output_type": "execute_result"
    }
   ],
   "source": [
    "problem.solve()"
   ]
  },
  {
   "cell_type": "markdown",
   "id": "2dc20ea7",
   "metadata": {},
   "source": [
    "#### 6. Print Solution "
   ]
  },
  {
   "cell_type": "code",
   "execution_count": 13,
   "id": "0722d818",
   "metadata": {},
   "outputs": [
    {
     "name": "stdout",
     "output_type": "stream",
     "text": [
      "Total cost =  276.0\n",
      "facility_1 is assigned to zone_2\n",
      "facility_1 is assigned to zone_3\n",
      "facility_1 is assigned to zone_4\n",
      "facility_2 is assigned to zone_1\n",
      "facility_2 is assigned to zone_5\n",
      "facility_2 is assigned to zone_6\n"
     ]
    }
   ],
   "source": [
    "print(\"Total cost = \", pulp.value(problem.objective))\n",
    "for f in facilities:\n",
    "    for z in zones:\n",
    "        if pulp.value(x[(f, z)]) == 1:\n",
    "            print(f, \"is assigned to\", z)"
   ]
  },
  {
   "cell_type": "markdown",
   "id": "4c5b2794",
   "metadata": {},
   "source": [
    "#### END CODE"
   ]
  }
 ],
 "metadata": {
  "kernelspec": {
   "display_name": "Python 3 (ipykernel)",
   "language": "python",
   "name": "python3"
  },
  "language_info": {
   "codemirror_mode": {
    "name": "ipython",
    "version": 3
   },
   "file_extension": ".py",
   "mimetype": "text/x-python",
   "name": "python",
   "nbconvert_exporter": "python",
   "pygments_lexer": "ipython3",
   "version": "3.7.9"
  }
 },
 "nbformat": 4,
 "nbformat_minor": 5
}
