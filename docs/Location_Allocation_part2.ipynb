{
 "cells": [
  {
   "cell_type": "markdown",
   "metadata": {
    "id": "zyT3YCP9hguR"
   },
   "source": [
    "# 공간분석과 공간통계: 입지-배분 모형\n",
    "#### 가천대학교 공간정보시스템(14842001) 장요한 (ycanns@gachon.ac.kr)\n",
    "----------------------"
   ]
  },
  {
   "cell_type": "markdown",
   "metadata": {
    "id": "R6REecNMgpQf"
   },
   "source": [
    "#### 1. Initialization"
   ]
  },
  {
   "cell_type": "code",
   "execution_count": 6,
   "metadata": {
    "id": "8aZBO8_lgnHZ"
   },
   "outputs": [],
   "source": [
    "import folium, math\n",
    "from geopy.distance import geodesic\n",
    "import matplotlib.pyplot as plt"
   ]
  },
  {
   "cell_type": "markdown",
   "metadata": {
    "id": "PcWSmyGuhmTV"
   },
   "source": [
    "### PART 1 ---- Simple example"
   ]
  },
  {
   "cell_type": "markdown",
   "metadata": {
    "id": "dtrA6aI0h7J5"
   },
   "source": [
    "##### 1.1. Sample demand and supply points"
   ]
  },
  {
   "cell_type": "code",
   "execution_count": 3,
   "metadata": {
    "id": "cnG4z45YhkXf"
   },
   "outputs": [],
   "source": [
    "# Sample coordinate information\n",
    "demand_points = [(5, 2), (3, 2), (5, 6), (7, 8)]  # Demand points (x, y) coordinates\n",
    "supply_points = [(5, 5), (6, 6), (2, 2), (6, 4), (4, 7)]   # Supply points (x, y) coordinates\n"
   ]
  },
  {
   "cell_type": "code",
   "execution_count": 4,
   "metadata": {
    "id": "rfohxOuChryD"
   },
   "outputs": [],
   "source": [
    "def visualize_points(demand_points, supply_points):\n",
    "    # Extract x and y coordinates from the points\n",
    "    demand_x, demand_y = zip(*demand_points)\n",
    "    supply_x, supply_y = zip(*supply_points)\n",
    "\n",
    "    # Plot demand and supply points\n",
    "    plt.scatter(demand_x, demand_y, color='blue', label='Demand Points')\n",
    "    plt.scatter(supply_x, supply_y, color='red', label='Supply Points')\n",
    "\n",
    "    plt.xlabel('X')\n",
    "    plt.ylabel('Y')\n",
    "    plt.title('Demand and Supply Points')\n",
    "    plt.legend()\n",
    "    plt.show()"
   ]
  },
  {
   "cell_type": "code",
   "execution_count": 7,
   "metadata": {
    "colab": {
     "base_uri": "https://localhost:8080/",
     "height": 472
    },
    "id": "Dn7l_bH9h5RO",
    "outputId": "f53ae1ee-2654-4b3a-ad03-afb2f289749a"
   },
   "outputs": [
    {
     "data": {
      "image/png": "[encoded data removed]",
      "text/plain": [
       "<Figure size 640x480 with 1 Axes>"
      ]
     },
     "metadata": {},
     "output_type": "display_data"
    }
   ],
   "source": [
    "# Example usage\n",
    "visualize_points(demand_points, supply_points)"
   ]
  },
  {
   "cell_type": "markdown",
   "metadata": {
    "id": "RkdCn41GiFqS"
   },
   "source": [
    "##### 1.2. 두 포인트 간 거리계산 (Euclidean distance)"
   ]
  },
  {
   "cell_type": "code",
   "execution_count": 8,
   "metadata": {
    "id": "2PW7SrVLh5Od"
   },
   "outputs": [],
   "source": [
    "def calculate_distance(point1, point2):\n",
    "    # Calculates the Euclidean distance between two points\n",
    "    x1, y1 = point1\n",
    "    x2, y2 = point2\n",
    "    return math.sqrt((x2 - x1) ** 2 + (y2 - y1) ** 2)"
   ]
  },
  {
   "cell_type": "markdown",
   "metadata": {
    "id": "dYLvtslJiOok"
   },
   "source": [
    "##### 1.3. 주어진 수요(demand)와 공급(supply) 점 간 최소 좌표 찾기"
   ]
  },
  {
   "cell_type": "code",
   "execution_count": 9,
   "metadata": {
    "id": "kBdKU0obh5MA"
   },
   "outputs": [],
   "source": [
    "def mindistance(point, points):\n",
    "    # Finds the point with the minimum distance to a given point\n",
    "    min_dist = float('inf')\n",
    "    min_point = None\n",
    "\n",
    "    for p in points:\n",
    "        dist = calculate_distance(point, p)\n",
    "        if dist < min_dist:\n",
    "            min_dist = dist\n",
    "            min_point = p\n",
    "\n",
    "    return min_point"
   ]
  },
  {
   "cell_type": "markdown",
   "metadata": {
    "id": "EMqbL45Mibub"
   },
   "source": [
    "##### 1.4. 주어진 수요(demand)와 공급(supply) 점 간 최대 거리 찾기"
   ]
  },
  {
   "cell_type": "code",
   "execution_count": 10,
   "metadata": {
    "id": "Dyn5UDEZh5Ji"
   },
   "outputs": [],
   "source": [
    "def maxatten(point, points, max_dist):\n",
    "    # Finds all points within a given maximum distance of a given point\n",
    "    within_dist = []\n",
    "\n",
    "    for p in points:\n",
    "        dist = calculate_distance(point, p)\n",
    "        if dist <= max_dist:\n",
    "            within_dist.append(p)\n",
    "\n",
    "    return within_dist"
   ]
  },
  {
   "cell_type": "markdown",
   "metadata": {
    "id": "Wgyj2-p0igrz"
   },
   "source": [
    "##### 1.5. 주어진 수요(demand)와 공급(supply) 점 간 최소 거리 찾기"
   ]
  },
  {
   "cell_type": "code",
   "execution_count": 11,
   "metadata": {
    "id": "ymR7SUdvh5Gi"
   },
   "outputs": [],
   "source": [
    "def mindistpower(points1, points2):\n",
    "    # Finds the minimum distance between two sets of points\n",
    "    min_dist = float('inf')\n",
    "\n",
    "    for p1 in points1:\n",
    "        for p2 in points2:\n",
    "            dist = calculate_distance(p1, p2)\n",
    "            if dist < min_dist:\n",
    "                min_dist = dist\n",
    "\n",
    "    return min_dist"
   ]
  },
  {
   "cell_type": "markdown",
   "metadata": {
    "id": "7QRFnz3QjBYG"
   },
   "source": [
    "##### 1.6. 주어진 수요(demand)와 공급(supply) 점 간 최대 커버레이지(coverage) 거리 찾기"
   ]
  },
  {
   "cell_type": "code",
   "execution_count": 12,
   "metadata": {
    "id": "YwQcRH1gjLVu"
   },
   "outputs": [],
   "source": [
    "def maxcover(points1, points2):\n",
    "    # Finds the maximum coverage distance between two sets of points\n",
    "    max_dist = 0\n",
    "\n",
    "    for p1 in points1:\n",
    "        min_dist = float('inf')\n",
    "        for p2 in points2:\n",
    "            dist = calculate_distance(p1, p2)\n",
    "            if dist < min_dist:\n",
    "                min_dist = dist\n",
    "        if min_dist > max_dist:\n",
    "            max_dist = min_dist\n",
    "\n",
    "    return max_dist"
   ]
  },
  {
   "cell_type": "markdown",
   "metadata": {
    "id": "NkmulC08jXJK"
   },
   "source": [
    "##### 1.7. 각 기준으로 비교해보기"
   ]
  },
  {
   "cell_type": "code",
   "execution_count": 13,
   "metadata": {
    "colab": {
     "base_uri": "https://localhost:8080/"
    },
    "id": "IgUsCbLkjbNQ",
    "outputId": "19d4539b-dd34-42c4-d0c1-90f618ef3e1e"
   },
   "outputs": [
    {
     "name": "stdout",
     "output_type": "stream",
     "text": [
      "Closest supply point to demand point: (6, 6)\n",
      "Points within 5 units of demand point: [(5, 5), (6, 6), (6, 4), (4, 7)]\n",
      "Minimum distance between demand and supply points: 1.0\n",
      "Maximum coverage distance between demand and supply points: 2.23606797749979\n"
     ]
    }
   ],
   "source": [
    "# Example usage\n",
    "demand_point = demand_points[3]\n",
    "closest_supply_point = mindistance(demand_point, supply_points)\n",
    "points_within_distance = maxatten(demand_point, supply_points, 5)\n",
    "min_distance_between_sets = mindistpower(demand_points, supply_points)\n",
    "max_coverage_distance = maxcover(demand_points, supply_points)\n",
    "\n",
    "print(\"Closest supply point to demand point:\", closest_supply_point)\n",
    "print(\"Points within 5 units of demand point:\", points_within_distance)\n",
    "print(\"Minimum distance between demand and supply points:\", min_distance_between_sets)\n",
    "print(\"Maximum coverage distance between demand and supply points:\", max_coverage_distance)"
   ]
  },
  {
   "cell_type": "markdown",
   "metadata": {
    "id": "wMEcL9Cak0e4"
   },
   "source": [
    "##### 1.8. 결과 확인"
   ]
  },
  {
   "cell_type": "code",
   "execution_count": 14,
   "metadata": {
    "colab": {
     "base_uri": "https://localhost:8080/",
     "height": 472
    },
    "id": "vtnH7lC7jkCl",
    "outputId": "db53d11e-fbd0-4e04-f239-0e15c973f55d"
   },
   "outputs": [
    {
     "data": {
      "image/png": "[encoded data removed]",
      "text/plain": [
       "<Figure size 640x480 with 1 Axes>"
      ]
     },
     "metadata": {},
     "output_type": "display_data"
    }
   ],
   "source": [
    "demand_x, demand_y = zip(*demand_points)\n",
    "supply_x, supply_y = zip(*supply_points)\n",
    "max_x, max_y = zip(*points_within_distance)\n",
    "\n",
    "\n",
    "# Plot demand and supply points\n",
    "plt.scatter(demand_x, demand_y, color='red', label='Demand Points')\n",
    "plt.scatter(supply_x, supply_y, color='blue', label='Supply Points')\n",
    "plt.scatter(max_x, max_y, color='yellow', label='Points within 5 units of demand point')\n",
    "plt.scatter(closest_supply_point[0], closest_supply_point[1], color='gray', label='Closest Supply Points')\n",
    "\n",
    "plt.xlabel('X')\n",
    "plt.ylabel('Y')\n",
    "plt.title('Demand and Supply Points')\n",
    "plt.legend()\n",
    "plt.show()"
   ]
  },
  {
   "cell_type": "markdown",
   "metadata": {
    "id": "Um14Qz5Wk4D5"
   },
   "source": [
    "##### 원본과 함께..."
   ]
  },
  {
   "cell_type": "code",
   "execution_count": 15,
   "metadata": {
    "colab": {
     "base_uri": "https://localhost:8080/",
     "height": 472
    },
    "id": "W4zLf5smk5yD",
    "outputId": "17099815-757a-42e7-e96a-7ccb63423467"
   },
   "outputs": [
    {
     "data": {
      "image/png": "[encoded data removed]",
      "text/plain": [
       "<Figure size 640x480 with 1 Axes>"
      ]
     },
     "metadata": {},
     "output_type": "display_data"
    }
   ],
   "source": [
    "visualize_points(demand_points, supply_points)"
   ]
  },
  {
   "cell_type": "markdown",
   "metadata": {
    "id": "qxNATQ9Unv7z"
   },
   "source": [
    "\n",
    "\n",
    "---\n",
    "\n"
   ]
  },
  {
   "cell_type": "markdown",
   "metadata": {
    "id": "jckzK97Yl5wf"
   },
   "source": [
    "### PART 12 ---- with GIS"
   ]
  },
  {
   "cell_type": "markdown",
   "metadata": {
    "id": "e78bNQIBmBwH"
   },
   "source": [
    "##### 2.1. Sample demand and supply points"
   ]
  },
  {
   "cell_type": "code",
   "execution_count": 24,
   "metadata": {
    "id": "PveIzwbZlVZK"
   },
   "outputs": [],
   "source": [
    "# 국내 5대 광역권 물류기지와 각 시도 좌표 중심점\n",
    "supply_points = [(35.31962956, 126.7547121), (35.31146477, 129.0163972), (37.33105702, 126.9375047), (35.95864057, 128.4494975), (36.54418765, 127.3568226), (37.330421,   126.958047), (35.29484522, 129.0110754)]\n",
    "demand_points = [(37.55724163, 126.9871252), (35.16218448, 129.054632), (35.85547861, 128.5793766), (37.46044164, 126.7004407), (35.1481661, 126.8521798), (36.34082679, 127.3987915), (35.5470358, 129.2569736), (37.45758953, 127.3429823), (37.8087934, 128.2723599), (36.76601606, 127.7690261), (36.54486254, 126.9145592), (35.73520285, 127.1688519), (34.87756336, 126.9620679), (36.16849991, 128.987314), (35.36637585, 128.2590894), (33.38684247, 126.5548156), (36.51783299, 127.2853503)]\n",
    "# 해당 내용 샘플(https://library.krihs.re.kr/dl_image2/IMG/07/000000033018/SERVICE/000000033018_01.PDF)"
   ]
  },
  {
   "cell_type": "code",
   "execution_count": null,
   "metadata": {
    "id": "-X0_hppkl4mZ"
   },
   "outputs": [],
   "source": [
    "######## 새로운 창으로 확인할 것 !! ########\n",
    "# 물류기지 등 시각화>> https://ycanns.github.io/Graphs/Logistic_Locations_v2.html\n",
    "# 물류 물동량 시각화>> https://ycanns.github.io/Graphs/Logistic_OD_Visual_v2.html"
   ]
  },
  {
   "cell_type": "markdown",
   "metadata": {
    "id": "IFBeQbPCnxOZ"
   },
   "source": [
    "##### 2.2. 주어진 수요(demand)와 공급(supply) 점 간 최소 거리 찾기\n"
   ]
  },
  {
   "cell_type": "code",
   "execution_count": 18,
   "metadata": {
    "id": "7sjyIWh2n7i8"
   },
   "outputs": [],
   "source": [
    "# Function to calculate the minimum distance between demand and supply points\n",
    "def min_distance(demand, supply):\n",
    "    min_dist = float('inf')\n",
    "    for d in demand:\n",
    "        for s in supply:\n",
    "            dist = geodesic(d, s).miles\n",
    "            if dist < min_dist:\n",
    "                min_dist = dist\n",
    "    return min_dist"
   ]
  },
  {
   "cell_type": "markdown",
   "metadata": {
    "id": "xC6q8Pyhnx-J"
   },
   "source": [
    "##### 2.3. 주어진 수요(demand)와 공급(supply) 점 간 거리기준 최대 매력도 찾기\n"
   ]
  },
  {
   "cell_type": "code",
   "execution_count": 19,
   "metadata": {
    "id": "dwHkK3aAoPSF"
   },
   "outputs": [],
   "source": [
    "# Function to calculate the maximum attraction between demand and supply points\n",
    "def max_attraction(demand, supply):\n",
    "    max_att = 0\n",
    "    for d in demand:\n",
    "        for s in supply:\n",
    "            dist = geodesic(d, s).miles\n",
    "            att = 1 / dist  # Inverse distance as an example\n",
    "            if att > max_att:\n",
    "                max_att = att\n",
    "    return max_att"
   ]
  },
  {
   "cell_type": "markdown",
   "metadata": {
    "id": "sqsAkmdJnyXX"
   },
   "source": [
    "##### 2.4. 주어진 수요(demand)와 공급(supply) 점 간 power를 기준으로 최단 거리 찾기\n"
   ]
  },
  {
   "cell_type": "code",
   "execution_count": 20,
   "metadata": {
    "id": "LGR3zv2voplS"
   },
   "outputs": [],
   "source": [
    "# Function to calculate the minimum distance with power between demand and supply points\n",
    "def min_distance_power(demand, supply, power):\n",
    "    min_dist_power = float('inf')\n",
    "    for d in demand:\n",
    "        for s in supply:\n",
    "            dist = geodesic(d, s).miles\n",
    "            dist_power = dist ** power\n",
    "            if dist_power < min_dist_power:\n",
    "                min_dist_power = dist_power\n",
    "    return min_dist_power\n"
   ]
  },
  {
   "cell_type": "markdown",
   "metadata": {
    "id": "_eMWdxj8ny3V"
   },
   "source": [
    "##### 2.5. 주어진 수요(demand)와 공급(supply) 점 간 가장 짧은 이동거리를 가지는 좌표 찾기\n"
   ]
  },
  {
   "cell_type": "code",
   "execution_count": 21,
   "metadata": {
    "id": "U0bF8UjRo72X"
   },
   "outputs": [],
   "source": [
    "# Function to calculate the minimum distance and the supply point associated with it\n",
    "def min_distance_point(demand, supply):\n",
    "    min_dist = float('inf')\n",
    "    min_dist_point = None\n",
    "    for d in demand:\n",
    "        for s in supply:\n",
    "            dist = geodesic(d, s).miles\n",
    "            if dist < min_dist:\n",
    "                min_dist = dist\n",
    "                min_dist_point = s\n",
    "    return min_dist, min_dist_point"
   ]
  },
  {
   "cell_type": "markdown",
   "metadata": {
    "id": "f_BnXa1pnzNb"
   },
   "source": [
    "##### 2.5. 주어진 수요(demand)와 공급(supply) 점 반경을 기준으로 최대 커버레이지(coverage) 찾기\n"
   ]
  },
  {
   "cell_type": "code",
   "execution_count": 22,
   "metadata": {
    "id": "Hg2oZdlupEbc"
   },
   "outputs": [],
   "source": [
    "# Function to calculate the maximum coverage by supply points\n",
    "def max_coverage(demand, supply, radius):\n",
    "    covered_demand = []\n",
    "    for d in demand:\n",
    "        for s in supply:\n",
    "            dist = geodesic(d, s).miles\n",
    "            if dist <= radius:\n",
    "                covered_demand.append(d)\n",
    "                break\n",
    "    return covered_demand"
   ]
  },
  {
   "cell_type": "markdown",
   "metadata": {
    "id": "9N4Sy0LqpOXp"
   },
   "source": [
    "##### 2.6. 각 기준으로 비교해보기"
   ]
  },
  {
   "cell_type": "code",
   "execution_count": 25,
   "metadata": {
    "colab": {
     "base_uri": "https://localhost:8080/"
    },
    "id": "Z99TPd34pRQO",
    "outputId": "27cbe03e-5c2d-4648-a48b-e3eebab45f82"
   },
   "outputs": [
    {
     "name": "stdout",
     "output_type": "stream",
     "text": [
      "Minimum Distance: 4.3727178925988985\n",
      "Maximum Attraction: 0.22869071926468507\n",
      "Minimum Distance with Power (power=2): 19.120661768254553\n",
      "Minimum Distance: 4.3727178925988985\n",
      "Closest Supply Point: (36.54418765, 127.3568226)\n",
      "Maximum Coverage (radius=50 miles): [(37.55724163, 126.9871252), (35.16218448, 129.054632), (35.85547861, 128.5793766), (37.46044164, 126.7004407), (35.1481661, 126.8521798), (36.34082679, 127.3987915), (35.5470358, 129.2569736), (37.45758953, 127.3429823), (36.76601606, 127.7690261), (36.54486254, 126.9145592), (35.73520285, 127.1688519), (34.87756336, 126.9620679), (36.16849991, 128.987314), (35.36637585, 128.2590894), (36.51783299, 127.2853503)]\n"
     ]
    }
   ],
   "source": [
    "# Calculate and print the results\n",
    "print(\"Minimum Distance:\", min_distance(demand_points, supply_points))\n",
    "print(\"Maximum Attraction:\", max_attraction(demand_points, supply_points))\n",
    "print(\"Minimum Distance with Power (power=2):\", min_distance_power(demand_points, supply_points, 2))\n",
    "min_dist, min_dist_point = min_distance_point(demand_points, supply_points)\n",
    "print(\"Minimum Distance:\", min_dist)\n",
    "print(\"Closest Supply Point:\", min_dist_point)\n",
    "max_coverage_results = max_coverage(demand_points, supply_points, 50)\n",
    "print(\"Maximum Coverage (radius=50 miles):\", max_coverage_results)"
   ]
  },
  {
   "cell_type": "markdown",
   "metadata": {
    "id": "sRDh3HHdpsjF"
   },
   "source": [
    "##### 2.7. 지도에 시각화 및 결과 확인 (Supply and Demand)"
   ]
  },
  {
   "cell_type": "code",
   "execution_count": 27,
   "metadata": {
    "colab": {
     "base_uri": "https://localhost:8080/",
     "height": 675
    },
    "id": "zu4UBihfppUW",
    "outputId": "5be988ff-3206-42fe-cda6-28351191bec7"
   },
   "outputs": [
    {
     "data": {
      "text/html": [
       "<div style=\"width:100%;\"><div style=\"position:relative;width:100%;height:0;padding-bottom:60%;\"><span style=\"color:#565656\">Make this Notebook Trusted to load map: File -> Trust Notebook</span><iframe srcdoc=\"&lt;!DOCTYPE html&gt;\n",
       "&lt;html&gt;\n",
       "&lt;head&gt;\n",
       "    \n",
       "    &lt;meta http-equiv=&quot;content-type&quot; content=&quot;text/html; charset=UTF-8&quot; /&gt;\n",
       "    \n",
       "        &lt;script&gt;\n",
       "            L_NO_TOUCH = false;\n",
       "            L_DISABLE_3D = false;\n",
       "        &lt;/script&gt;\n",
       "    \n",
       "    &lt;style&gt;html, body {width: 100%;height: 100%;margin: 0;padding: 0;}&lt;/style&gt;\n",
       "    &lt;style&gt;#map {position:absolute;top:0;bottom:0;right:0;left:0;}&lt;/style&gt;\n",
       "    &lt;script src=&quot;https://cdn.jsdelivr.net/npm/leaflet@1.9.3/dist/leaflet.js&quot;&gt;&lt;/script&gt;\n",
       "    &lt;script src=&quot;https://code.jquery.com/jquery-1.12.4.min.js&quot;&gt;&lt;/script&gt;\n",
       "    &lt;script src=&quot;https://cdn.jsdelivr.net/npm/bootstrap@5.2.2/dist/js/bootstrap.bundle.min.js&quot;&gt;&lt;/script&gt;\n",
       "    &lt;script src=&quot;https://cdnjs.cloudflare.com/ajax/libs/Leaflet.awesome-markers/2.0.2/leaflet.awesome-markers.js&quot;&gt;&lt;/script&gt;\n",
       "    &lt;link rel=&quot;stylesheet&quot; href=&quot;https://cdn.jsdelivr.net/npm/leaflet@1.9.3/dist/leaflet.css&quot;/&gt;\n",
       "    &lt;link rel=&quot;stylesheet&quot; href=&quot;https://cdn.jsdelivr.net/npm/bootstrap@5.2.2/dist/css/bootstrap.min.css&quot;/&gt;\n",
       "    &lt;link rel=&quot;stylesheet&quot; href=&quot;https://netdna.bootstrapcdn.com/bootstrap/3.0.0/css/bootstrap.min.css&quot;/&gt;\n",
       "    &lt;link rel=&quot;stylesheet&quot; href=&quot;https://cdn.jsdelivr.net/npm/@fortawesome/fontawesome-free@6.2.0/css/all.min.css&quot;/&gt;\n",
       "    &lt;link rel=&quot;stylesheet&quot; href=&quot;https://cdnjs.cloudflare.com/ajax/libs/Leaflet.awesome-markers/2.0.2/leaflet.awesome-markers.css&quot;/&gt;\n",
       "    &lt;link rel=&quot;stylesheet&quot; href=&quot;https://cdn.jsdelivr.net/gh/python-visualization/folium/folium/templates/leaflet.awesome.rotate.min.css&quot;/&gt;\n",
       "    \n",
       "            &lt;meta name=&quot;viewport&quot; content=&quot;width=device-width,\n",
       "                initial-scale=1.0, maximum-scale=1.0, user-scalable=no&quot; /&gt;\n",
       "            &lt;style&gt;\n",
       "                #map_3abc93d7b03b2d24a2c015495bfcbd8f {\n",
       "                    position: relative;\n",
       "                    width: 100.0%;\n",
       "                    height: 100.0%;\n",
       "                    left: 0.0%;\n",
       "                    top: 0.0%;\n",
       "                }\n",
       "                .leaflet-container { font-size: 1rem; }\n",
       "            &lt;/style&gt;\n",
       "        \n",
       "&lt;/head&gt;\n",
       "&lt;body&gt;\n",
       "    \n",
       "    \n",
       "            &lt;div class=&quot;folium-map&quot; id=&quot;map_3abc93d7b03b2d24a2c015495bfcbd8f&quot; &gt;&lt;/div&gt;\n",
       "        \n",
       "&lt;/body&gt;\n",
       "&lt;script&gt;\n",
       "    \n",
       "    \n",
       "            var map_3abc93d7b03b2d24a2c015495bfcbd8f = L.map(\n",
       "                &quot;map_3abc93d7b03b2d24a2c015495bfcbd8f&quot;,\n",
       "                {\n",
       "                    center: [36.11629999166666, 127.70124968750004],\n",
       "                    crs: L.CRS.EPSG3857,\n",
       "                    zoom: 4,\n",
       "                    zoomControl: true,\n",
       "                    preferCanvas: false,\n",
       "                }\n",
       "            );\n",
       "\n",
       "            \n",
       "\n",
       "        \n",
       "    \n",
       "            var tile_layer_d84e421335ab198fac0ff5b8fd4d416b = L.tileLayer(\n",
       "                &quot;https://{s}.tile.openstreetmap.org/{z}/{x}/{y}.png&quot;,\n",
       "                {&quot;attribution&quot;: &quot;Data by \\u0026copy; \\u003ca target=\\&quot;_blank\\&quot; href=\\&quot;http://openstreetmap.org\\&quot;\\u003eOpenStreetMap\\u003c/a\\u003e, under \\u003ca target=\\&quot;_blank\\&quot; href=\\&quot;http://www.openstreetmap.org/copyright\\&quot;\\u003eODbL\\u003c/a\\u003e.&quot;, &quot;detectRetina&quot;: false, &quot;maxNativeZoom&quot;: 18, &quot;maxZoom&quot;: 18, &quot;minZoom&quot;: 0, &quot;noWrap&quot;: false, &quot;opacity&quot;: 1, &quot;subdomains&quot;: &quot;abc&quot;, &quot;tms&quot;: false}\n",
       "            ).addTo(map_3abc93d7b03b2d24a2c015495bfcbd8f);\n",
       "        \n",
       "    \n",
       "            var marker_ee58eef4ad456ac30b78b97cc8244bb3 = L.marker(\n",
       "                [37.55724163, 126.9871252],\n",
       "                {&quot;name&quot;: &quot;demand points&quot;}\n",
       "            ).addTo(map_3abc93d7b03b2d24a2c015495bfcbd8f);\n",
       "        \n",
       "    \n",
       "            var icon_8c6fdfc12bab238de9a224e12253d52c = L.AwesomeMarkers.icon(\n",
       "                {&quot;extraClasses&quot;: &quot;fa-rotate-0&quot;, &quot;icon&quot;: &quot;home&quot;, &quot;iconColor&quot;: &quot;white&quot;, &quot;markerColor&quot;: &quot;blue&quot;, &quot;prefix&quot;: &quot;glyphicon&quot;}\n",
       "            );\n",
       "            marker_ee58eef4ad456ac30b78b97cc8244bb3.setIcon(icon_8c6fdfc12bab238de9a224e12253d52c);\n",
       "        \n",
       "    \n",
       "            var marker_0c0d9f35d227792d08d63a84d395f449 = L.marker(\n",
       "                [35.16218448, 129.054632],\n",
       "                {&quot;name&quot;: &quot;demand points&quot;}\n",
       "            ).addTo(map_3abc93d7b03b2d24a2c015495bfcbd8f);\n",
       "        \n",
       "    \n",
       "            var icon_2d3df2c45a56d43422a9c3bad57db606 = L.AwesomeMarkers.icon(\n",
       "                {&quot;extraClasses&quot;: &quot;fa-rotate-0&quot;, &quot;icon&quot;: &quot;home&quot;, &quot;iconColor&quot;: &quot;white&quot;, &quot;markerColor&quot;: &quot;blue&quot;, &quot;prefix&quot;: &quot;glyphicon&quot;}\n",
       "            );\n",
       "            marker_0c0d9f35d227792d08d63a84d395f449.setIcon(icon_2d3df2c45a56d43422a9c3bad57db606);\n",
       "        \n",
       "    \n",
       "            var marker_d41311e27046aeba4cd6c5724a0b1e99 = L.marker(\n",
       "                [35.85547861, 128.5793766],\n",
       "                {&quot;name&quot;: &quot;demand points&quot;}\n",
       "            ).addTo(map_3abc93d7b03b2d24a2c015495bfcbd8f);\n",
       "        \n",
       "    \n",
       "            var icon_5775ce661fc1187277fe70c4e6fcec3c = L.AwesomeMarkers.icon(\n",
       "                {&quot;extraClasses&quot;: &quot;fa-rotate-0&quot;, &quot;icon&quot;: &quot;home&quot;, &quot;iconColor&quot;: &quot;white&quot;, &quot;markerColor&quot;: &quot;blue&quot;, &quot;prefix&quot;: &quot;glyphicon&quot;}\n",
       "            );\n",
       "            marker_d41311e27046aeba4cd6c5724a0b1e99.setIcon(icon_5775ce661fc1187277fe70c4e6fcec3c);\n",
       "        \n",
       "    \n",
       "            var marker_8df29322e2beeeeaec1ef748e08ad6c4 = L.marker(\n",
       "                [37.46044164, 126.7004407],\n",
       "                {&quot;name&quot;: &quot;demand points&quot;}\n",
       "            ).addTo(map_3abc93d7b03b2d24a2c015495bfcbd8f);\n",
       "        \n",
       "    \n",
       "            var icon_5eb3eb25c146d6d850beac7b3ec2e431 = L.AwesomeMarkers.icon(\n",
       "                {&quot;extraClasses&quot;: &quot;fa-rotate-0&quot;, &quot;icon&quot;: &quot;home&quot;, &quot;iconColor&quot;: &quot;white&quot;, &quot;markerColor&quot;: &quot;blue&quot;, &quot;prefix&quot;: &quot;glyphicon&quot;}\n",
       "            );\n",
       "            marker_8df29322e2beeeeaec1ef748e08ad6c4.setIcon(icon_5eb3eb25c146d6d850beac7b3ec2e431);\n",
       "        \n",
       "    \n",
       "            var marker_f1f21ac23fe27ede3935593f769d2101 = L.marker(\n",
       "                [35.1481661, 126.8521798],\n",
       "                {&quot;name&quot;: &quot;demand points&quot;}\n",
       "            ).addTo(map_3abc93d7b03b2d24a2c015495bfcbd8f);\n",
       "        \n",
       "    \n",
       "            var icon_6c7f381446e05e66b1233653259ba7e3 = L.AwesomeMarkers.icon(\n",
       "                {&quot;extraClasses&quot;: &quot;fa-rotate-0&quot;, &quot;icon&quot;: &quot;home&quot;, &quot;iconColor&quot;: &quot;white&quot;, &quot;markerColor&quot;: &quot;blue&quot;, &quot;prefix&quot;: &quot;glyphicon&quot;}\n",
       "            );\n",
       "            marker_f1f21ac23fe27ede3935593f769d2101.setIcon(icon_6c7f381446e05e66b1233653259ba7e3);\n",
       "        \n",
       "    \n",
       "            var marker_31439d93ba874d24689a6c993dffbd95 = L.marker(\n",
       "                [36.34082679, 127.3987915],\n",
       "                {&quot;name&quot;: &quot;demand points&quot;}\n",
       "            ).addTo(map_3abc93d7b03b2d24a2c015495bfcbd8f);\n",
       "        \n",
       "    \n",
       "            var icon_d91a93592acb0a60f7584957f1798ad6 = L.AwesomeMarkers.icon(\n",
       "                {&quot;extraClasses&quot;: &quot;fa-rotate-0&quot;, &quot;icon&quot;: &quot;home&quot;, &quot;iconColor&quot;: &quot;white&quot;, &quot;markerColor&quot;: &quot;blue&quot;, &quot;prefix&quot;: &quot;glyphicon&quot;}\n",
       "            );\n",
       "            marker_31439d93ba874d24689a6c993dffbd95.setIcon(icon_d91a93592acb0a60f7584957f1798ad6);\n",
       "        \n",
       "    \n",
       "            var marker_76e5fbad34b59e8d8eea02b74058cab5 = L.marker(\n",
       "                [35.5470358, 129.2569736],\n",
       "                {&quot;name&quot;: &quot;demand points&quot;}\n",
       "            ).addTo(map_3abc93d7b03b2d24a2c015495bfcbd8f);\n",
       "        \n",
       "    \n",
       "            var icon_cdd9bdf03e93ee2a6a5ca4825308ad9b = L.AwesomeMarkers.icon(\n",
       "                {&quot;extraClasses&quot;: &quot;fa-rotate-0&quot;, &quot;icon&quot;: &quot;home&quot;, &quot;iconColor&quot;: &quot;white&quot;, &quot;markerColor&quot;: &quot;blue&quot;, &quot;prefix&quot;: &quot;glyphicon&quot;}\n",
       "            );\n",
       "            marker_76e5fbad34b59e8d8eea02b74058cab5.setIcon(icon_cdd9bdf03e93ee2a6a5ca4825308ad9b);\n",
       "        \n",
       "    \n",
       "            var marker_37d042ca63c58c695527ab4a615c1a82 = L.marker(\n",
       "                [37.45758953, 127.3429823],\n",
       "                {&quot;name&quot;: &quot;demand points&quot;}\n",
       "            ).addTo(map_3abc93d7b03b2d24a2c015495bfcbd8f);\n",
       "        \n",
       "    \n",
       "            var icon_cb247ab9c458631987be7812d88a094e = L.AwesomeMarkers.icon(\n",
       "                {&quot;extraClasses&quot;: &quot;fa-rotate-0&quot;, &quot;icon&quot;: &quot;home&quot;, &quot;iconColor&quot;: &quot;white&quot;, &quot;markerColor&quot;: &quot;blue&quot;, &quot;prefix&quot;: &quot;glyphicon&quot;}\n",
       "            );\n",
       "            marker_37d042ca63c58c695527ab4a615c1a82.setIcon(icon_cb247ab9c458631987be7812d88a094e);\n",
       "        \n",
       "    \n",
       "            var marker_3da163f913485887845211c3d815a717 = L.marker(\n",
       "                [37.8087934, 128.2723599],\n",
       "                {&quot;name&quot;: &quot;demand points&quot;}\n",
       "            ).addTo(map_3abc93d7b03b2d24a2c015495bfcbd8f);\n",
       "        \n",
       "    \n",
       "            var icon_58c5939440e90e89f11acc783b1f68ca = L.AwesomeMarkers.icon(\n",
       "                {&quot;extraClasses&quot;: &quot;fa-rotate-0&quot;, &quot;icon&quot;: &quot;home&quot;, &quot;iconColor&quot;: &quot;white&quot;, &quot;markerColor&quot;: &quot;blue&quot;, &quot;prefix&quot;: &quot;glyphicon&quot;}\n",
       "            );\n",
       "            marker_3da163f913485887845211c3d815a717.setIcon(icon_58c5939440e90e89f11acc783b1f68ca);\n",
       "        \n",
       "    \n",
       "            var marker_c56af92fed948721588a85d1669241d6 = L.marker(\n",
       "                [36.76601606, 127.7690261],\n",
       "                {&quot;name&quot;: &quot;demand points&quot;}\n",
       "            ).addTo(map_3abc93d7b03b2d24a2c015495bfcbd8f);\n",
       "        \n",
       "    \n",
       "            var icon_4efe616d6fc8b1f63cbb36a35148efa9 = L.AwesomeMarkers.icon(\n",
       "                {&quot;extraClasses&quot;: &quot;fa-rotate-0&quot;, &quot;icon&quot;: &quot;home&quot;, &quot;iconColor&quot;: &quot;white&quot;, &quot;markerColor&quot;: &quot;blue&quot;, &quot;prefix&quot;: &quot;glyphicon&quot;}\n",
       "            );\n",
       "            marker_c56af92fed948721588a85d1669241d6.setIcon(icon_4efe616d6fc8b1f63cbb36a35148efa9);\n",
       "        \n",
       "    \n",
       "            var marker_56312cb4a271c8fea76d321c975aabe3 = L.marker(\n",
       "                [36.54486254, 126.9145592],\n",
       "                {&quot;name&quot;: &quot;demand points&quot;}\n",
       "            ).addTo(map_3abc93d7b03b2d24a2c015495bfcbd8f);\n",
       "        \n",
       "    \n",
       "            var icon_8c6838049338c957e12f812549187174 = L.AwesomeMarkers.icon(\n",
       "                {&quot;extraClasses&quot;: &quot;fa-rotate-0&quot;, &quot;icon&quot;: &quot;home&quot;, &quot;iconColor&quot;: &quot;white&quot;, &quot;markerColor&quot;: &quot;blue&quot;, &quot;prefix&quot;: &quot;glyphicon&quot;}\n",
       "            );\n",
       "            marker_56312cb4a271c8fea76d321c975aabe3.setIcon(icon_8c6838049338c957e12f812549187174);\n",
       "        \n",
       "    \n",
       "            var marker_c860ba7284e32149755de94089bb79aa = L.marker(\n",
       "                [35.73520285, 127.1688519],\n",
       "                {&quot;name&quot;: &quot;demand points&quot;}\n",
       "            ).addTo(map_3abc93d7b03b2d24a2c015495bfcbd8f);\n",
       "        \n",
       "    \n",
       "            var icon_b26241569f137563a7c06999eb3a9a4f = L.AwesomeMarkers.icon(\n",
       "                {&quot;extraClasses&quot;: &quot;fa-rotate-0&quot;, &quot;icon&quot;: &quot;home&quot;, &quot;iconColor&quot;: &quot;white&quot;, &quot;markerColor&quot;: &quot;blue&quot;, &quot;prefix&quot;: &quot;glyphicon&quot;}\n",
       "            );\n",
       "            marker_c860ba7284e32149755de94089bb79aa.setIcon(icon_b26241569f137563a7c06999eb3a9a4f);\n",
       "        \n",
       "    \n",
       "            var marker_2d5fa13bb04f73477371fc2884ad2b68 = L.marker(\n",
       "                [34.87756336, 126.9620679],\n",
       "                {&quot;name&quot;: &quot;demand points&quot;}\n",
       "            ).addTo(map_3abc93d7b03b2d24a2c015495bfcbd8f);\n",
       "        \n",
       "    \n",
       "            var icon_9eb8af1229fa7514bd5020fc8cdfcd73 = L.AwesomeMarkers.icon(\n",
       "                {&quot;extraClasses&quot;: &quot;fa-rotate-0&quot;, &quot;icon&quot;: &quot;home&quot;, &quot;iconColor&quot;: &quot;white&quot;, &quot;markerColor&quot;: &quot;blue&quot;, &quot;prefix&quot;: &quot;glyphicon&quot;}\n",
       "            );\n",
       "            marker_2d5fa13bb04f73477371fc2884ad2b68.setIcon(icon_9eb8af1229fa7514bd5020fc8cdfcd73);\n",
       "        \n",
       "    \n",
       "            var marker_150b31e69d7fc86e0732ea0dc4d1c174 = L.marker(\n",
       "                [36.16849991, 128.987314],\n",
       "                {&quot;name&quot;: &quot;demand points&quot;}\n",
       "            ).addTo(map_3abc93d7b03b2d24a2c015495bfcbd8f);\n",
       "        \n",
       "    \n",
       "            var icon_17d2f61c883dbfe3715ae08b002d85fa = L.AwesomeMarkers.icon(\n",
       "                {&quot;extraClasses&quot;: &quot;fa-rotate-0&quot;, &quot;icon&quot;: &quot;home&quot;, &quot;iconColor&quot;: &quot;white&quot;, &quot;markerColor&quot;: &quot;blue&quot;, &quot;prefix&quot;: &quot;glyphicon&quot;}\n",
       "            );\n",
       "            marker_150b31e69d7fc86e0732ea0dc4d1c174.setIcon(icon_17d2f61c883dbfe3715ae08b002d85fa);\n",
       "        \n",
       "    \n",
       "            var marker_97504931e815e229249d6ce097215a09 = L.marker(\n",
       "                [35.36637585, 128.2590894],\n",
       "                {&quot;name&quot;: &quot;demand points&quot;}\n",
       "            ).addTo(map_3abc93d7b03b2d24a2c015495bfcbd8f);\n",
       "        \n",
       "    \n",
       "            var icon_e45a40c7c596735345c2a05d2df89955 = L.AwesomeMarkers.icon(\n",
       "                {&quot;extraClasses&quot;: &quot;fa-rotate-0&quot;, &quot;icon&quot;: &quot;home&quot;, &quot;iconColor&quot;: &quot;white&quot;, &quot;markerColor&quot;: &quot;blue&quot;, &quot;prefix&quot;: &quot;glyphicon&quot;}\n",
       "            );\n",
       "            marker_97504931e815e229249d6ce097215a09.setIcon(icon_e45a40c7c596735345c2a05d2df89955);\n",
       "        \n",
       "    \n",
       "            var marker_8b4cc968dae71df342400fe495a6da4d = L.marker(\n",
       "                [33.38684247, 126.5548156],\n",
       "                {&quot;name&quot;: &quot;demand points&quot;}\n",
       "            ).addTo(map_3abc93d7b03b2d24a2c015495bfcbd8f);\n",
       "        \n",
       "    \n",
       "            var icon_b64f1cee66647ef961cbecc0e8fd4851 = L.AwesomeMarkers.icon(\n",
       "                {&quot;extraClasses&quot;: &quot;fa-rotate-0&quot;, &quot;icon&quot;: &quot;home&quot;, &quot;iconColor&quot;: &quot;white&quot;, &quot;markerColor&quot;: &quot;blue&quot;, &quot;prefix&quot;: &quot;glyphicon&quot;}\n",
       "            );\n",
       "            marker_8b4cc968dae71df342400fe495a6da4d.setIcon(icon_b64f1cee66647ef961cbecc0e8fd4851);\n",
       "        \n",
       "    \n",
       "            var marker_94d85b0e14ad6cf1d22c34755945326d = L.marker(\n",
       "                [36.51783299, 127.2853503],\n",
       "                {&quot;name&quot;: &quot;demand points&quot;}\n",
       "            ).addTo(map_3abc93d7b03b2d24a2c015495bfcbd8f);\n",
       "        \n",
       "    \n",
       "            var icon_0c59643c4fa8986a2b4db568bfad67d9 = L.AwesomeMarkers.icon(\n",
       "                {&quot;extraClasses&quot;: &quot;fa-rotate-0&quot;, &quot;icon&quot;: &quot;home&quot;, &quot;iconColor&quot;: &quot;white&quot;, &quot;markerColor&quot;: &quot;blue&quot;, &quot;prefix&quot;: &quot;glyphicon&quot;}\n",
       "            );\n",
       "            marker_94d85b0e14ad6cf1d22c34755945326d.setIcon(icon_0c59643c4fa8986a2b4db568bfad67d9);\n",
       "        \n",
       "    \n",
       "            var marker_727a3efde866aa88b594a48468fdf9ae = L.marker(\n",
       "                [35.31962956, 126.7547121],\n",
       "                {&quot;name&quot;: &quot;supply points&quot;}\n",
       "            ).addTo(map_3abc93d7b03b2d24a2c015495bfcbd8f);\n",
       "        \n",
       "    \n",
       "            var icon_405ecd73e6d9c8fbeef5f25b78a8b53b = L.AwesomeMarkers.icon(\n",
       "                {&quot;extraClasses&quot;: &quot;fa-rotate-0&quot;, &quot;icon&quot;: &quot;star&quot;, &quot;iconColor&quot;: &quot;white&quot;, &quot;markerColor&quot;: &quot;red&quot;, &quot;prefix&quot;: &quot;glyphicon&quot;}\n",
       "            );\n",
       "            marker_727a3efde866aa88b594a48468fdf9ae.setIcon(icon_405ecd73e6d9c8fbeef5f25b78a8b53b);\n",
       "        \n",
       "    \n",
       "            var marker_aa519588116ec2ebfe5f0811cca2e94f = L.marker(\n",
       "                [35.31146477, 129.0163972],\n",
       "                {&quot;name&quot;: &quot;supply points&quot;}\n",
       "            ).addTo(map_3abc93d7b03b2d24a2c015495bfcbd8f);\n",
       "        \n",
       "    \n",
       "            var icon_5d328c6cc0e9ab0bf73b921e527f887c = L.AwesomeMarkers.icon(\n",
       "                {&quot;extraClasses&quot;: &quot;fa-rotate-0&quot;, &quot;icon&quot;: &quot;star&quot;, &quot;iconColor&quot;: &quot;white&quot;, &quot;markerColor&quot;: &quot;red&quot;, &quot;prefix&quot;: &quot;glyphicon&quot;}\n",
       "            );\n",
       "            marker_aa519588116ec2ebfe5f0811cca2e94f.setIcon(icon_5d328c6cc0e9ab0bf73b921e527f887c);\n",
       "        \n",
       "    \n",
       "            var marker_f85749fa8fc3bc9bb591642ac5282ff9 = L.marker(\n",
       "                [37.33105702, 126.9375047],\n",
       "                {&quot;name&quot;: &quot;supply points&quot;}\n",
       "            ).addTo(map_3abc93d7b03b2d24a2c015495bfcbd8f);\n",
       "        \n",
       "    \n",
       "            var icon_6cb1f2e3ecba75f395d110c803b7a72b = L.AwesomeMarkers.icon(\n",
       "                {&quot;extraClasses&quot;: &quot;fa-rotate-0&quot;, &quot;icon&quot;: &quot;star&quot;, &quot;iconColor&quot;: &quot;white&quot;, &quot;markerColor&quot;: &quot;red&quot;, &quot;prefix&quot;: &quot;glyphicon&quot;}\n",
       "            );\n",
       "            marker_f85749fa8fc3bc9bb591642ac5282ff9.setIcon(icon_6cb1f2e3ecba75f395d110c803b7a72b);\n",
       "        \n",
       "    \n",
       "            var marker_cbb36aaafe8b86be25fb1c63c4559d3f = L.marker(\n",
       "                [35.95864057, 128.4494975],\n",
       "                {&quot;name&quot;: &quot;supply points&quot;}\n",
       "            ).addTo(map_3abc93d7b03b2d24a2c015495bfcbd8f);\n",
       "        \n",
       "    \n",
       "            var icon_8a96595dfe8825d9f0e6658244ef76d3 = L.AwesomeMarkers.icon(\n",
       "                {&quot;extraClasses&quot;: &quot;fa-rotate-0&quot;, &quot;icon&quot;: &quot;star&quot;, &quot;iconColor&quot;: &quot;white&quot;, &quot;markerColor&quot;: &quot;red&quot;, &quot;prefix&quot;: &quot;glyphicon&quot;}\n",
       "            );\n",
       "            marker_cbb36aaafe8b86be25fb1c63c4559d3f.setIcon(icon_8a96595dfe8825d9f0e6658244ef76d3);\n",
       "        \n",
       "    \n",
       "            var marker_c6808c089a3f4175f9d71c6d62b384ee = L.marker(\n",
       "                [36.54418765, 127.3568226],\n",
       "                {&quot;name&quot;: &quot;supply points&quot;}\n",
       "            ).addTo(map_3abc93d7b03b2d24a2c015495bfcbd8f);\n",
       "        \n",
       "    \n",
       "            var icon_c1ea1ee569502c40c1e18f29183258a7 = L.AwesomeMarkers.icon(\n",
       "                {&quot;extraClasses&quot;: &quot;fa-rotate-0&quot;, &quot;icon&quot;: &quot;star&quot;, &quot;iconColor&quot;: &quot;white&quot;, &quot;markerColor&quot;: &quot;red&quot;, &quot;prefix&quot;: &quot;glyphicon&quot;}\n",
       "            );\n",
       "            marker_c6808c089a3f4175f9d71c6d62b384ee.setIcon(icon_c1ea1ee569502c40c1e18f29183258a7);\n",
       "        \n",
       "    \n",
       "            var marker_590b644bf24112256b5899aa79d1d082 = L.marker(\n",
       "                [37.330421, 126.958047],\n",
       "                {&quot;name&quot;: &quot;supply points&quot;}\n",
       "            ).addTo(map_3abc93d7b03b2d24a2c015495bfcbd8f);\n",
       "        \n",
       "    \n",
       "            var icon_9b87ecd10156f5ead11c5c1bc3a75252 = L.AwesomeMarkers.icon(\n",
       "                {&quot;extraClasses&quot;: &quot;fa-rotate-0&quot;, &quot;icon&quot;: &quot;star&quot;, &quot;iconColor&quot;: &quot;white&quot;, &quot;markerColor&quot;: &quot;red&quot;, &quot;prefix&quot;: &quot;glyphicon&quot;}\n",
       "            );\n",
       "            marker_590b644bf24112256b5899aa79d1d082.setIcon(icon_9b87ecd10156f5ead11c5c1bc3a75252);\n",
       "        \n",
       "    \n",
       "            var marker_2f68115d726df8b49f7ea2330fd6ce8e = L.marker(\n",
       "                [35.29484522, 129.0110754],\n",
       "                {&quot;name&quot;: &quot;supply points&quot;}\n",
       "            ).addTo(map_3abc93d7b03b2d24a2c015495bfcbd8f);\n",
       "        \n",
       "    \n",
       "            var icon_3b49ab81424a40ac7bb7ab77fd640a54 = L.AwesomeMarkers.icon(\n",
       "                {&quot;extraClasses&quot;: &quot;fa-rotate-0&quot;, &quot;icon&quot;: &quot;star&quot;, &quot;iconColor&quot;: &quot;white&quot;, &quot;markerColor&quot;: &quot;red&quot;, &quot;prefix&quot;: &quot;glyphicon&quot;}\n",
       "            );\n",
       "            marker_2f68115d726df8b49f7ea2330fd6ce8e.setIcon(icon_3b49ab81424a40ac7bb7ab77fd640a54);\n",
       "        \n",
       "&lt;/script&gt;\n",
       "&lt;/html&gt;\" style=\"position:absolute;width:100%;height:100%;left:0;top:0;border:none !important;\" allowfullscreen webkitallowfullscreen mozallowfullscreen></iframe></div></div>"
      ],
      "text/plain": [
       "<folium.folium.Map at 0x7fbeaa24f2e0>"
      ]
     },
     "execution_count": 27,
     "metadata": {},
     "output_type": "execute_result"
    }
   ],
   "source": [
    "# Create a simple visualization using folium\n",
    "map_center = (sum([c[0] for c in demand_points+supply_points])/len(demand_points+supply_points),\n",
    "              sum([c[1] for c in demand_points+supply_points])/len(demand_points+supply_points))\n",
    "\n",
    "# Create a map centered around the coordinates\n",
    "m = folium.Map(location=map_center, zoom_start=4)\n",
    "\n",
    "# Add markers for demand points\n",
    "for point in demand_points:\n",
    "    folium.Marker(point, icon=folium.Icon(color='blue', icon='home'), name='demand points').add_to(m)\n",
    "    \n",
    "# Add markers for supply points\n",
    "for point in supply_points:\n",
    "    folium.Marker(point, icon=folium.Icon(color='red', icon='star'), name='supply points').add_to(m)\n",
    "m"
   ]
  },
  {
   "cell_type": "markdown",
   "metadata": {
    "id": "XRFlpK9RrJa_"
   },
   "source": [
    "##### 2.8. 지도에 시각화 및 결과 확인 (Closest Points & Max Coverages)"
   ]
  },
  {
   "cell_type": "code",
   "execution_count": 28,
   "metadata": {
    "colab": {
     "base_uri": "https://localhost:8080/",
     "height": 675
    },
    "id": "LgcTssdfp_P7",
    "outputId": "21562661-cd32-455b-c565-63fb664b70ab"
   },
   "outputs": [
    {
     "data": {
      "text/html": [
       "<div style=\"width:100%;\"><div style=\"position:relative;width:100%;height:0;padding-bottom:60%;\"><span style=\"color:#565656\">Make this Notebook Trusted to load map: File -> Trust Notebook</span><iframe srcdoc=\"&lt;!DOCTYPE html&gt;\n",
       "&lt;html&gt;\n",
       "&lt;head&gt;\n",
       "    \n",
       "    &lt;meta http-equiv=&quot;content-type&quot; content=&quot;text/html; charset=UTF-8&quot; /&gt;\n",
       "    \n",
       "        &lt;script&gt;\n",
       "            L_NO_TOUCH = false;\n",
       "            L_DISABLE_3D = false;\n",
       "        &lt;/script&gt;\n",
       "    \n",
       "    &lt;style&gt;html, body {width: 100%;height: 100%;margin: 0;padding: 0;}&lt;/style&gt;\n",
       "    &lt;style&gt;#map {position:absolute;top:0;bottom:0;right:0;left:0;}&lt;/style&gt;\n",
       "    &lt;script src=&quot;https://cdn.jsdelivr.net/npm/leaflet@1.9.3/dist/leaflet.js&quot;&gt;&lt;/script&gt;\n",
       "    &lt;script src=&quot;https://code.jquery.com/jquery-1.12.4.min.js&quot;&gt;&lt;/script&gt;\n",
       "    &lt;script src=&quot;https://cdn.jsdelivr.net/npm/bootstrap@5.2.2/dist/js/bootstrap.bundle.min.js&quot;&gt;&lt;/script&gt;\n",
       "    &lt;script src=&quot;https://cdnjs.cloudflare.com/ajax/libs/Leaflet.awesome-markers/2.0.2/leaflet.awesome-markers.js&quot;&gt;&lt;/script&gt;\n",
       "    &lt;link rel=&quot;stylesheet&quot; href=&quot;https://cdn.jsdelivr.net/npm/leaflet@1.9.3/dist/leaflet.css&quot;/&gt;\n",
       "    &lt;link rel=&quot;stylesheet&quot; href=&quot;https://cdn.jsdelivr.net/npm/bootstrap@5.2.2/dist/css/bootstrap.min.css&quot;/&gt;\n",
       "    &lt;link rel=&quot;stylesheet&quot; href=&quot;https://netdna.bootstrapcdn.com/bootstrap/3.0.0/css/bootstrap.min.css&quot;/&gt;\n",
       "    &lt;link rel=&quot;stylesheet&quot; href=&quot;https://cdn.jsdelivr.net/npm/@fortawesome/fontawesome-free@6.2.0/css/all.min.css&quot;/&gt;\n",
       "    &lt;link rel=&quot;stylesheet&quot; href=&quot;https://cdnjs.cloudflare.com/ajax/libs/Leaflet.awesome-markers/2.0.2/leaflet.awesome-markers.css&quot;/&gt;\n",
       "    &lt;link rel=&quot;stylesheet&quot; href=&quot;https://cdn.jsdelivr.net/gh/python-visualization/folium/folium/templates/leaflet.awesome.rotate.min.css&quot;/&gt;\n",
       "    \n",
       "            &lt;meta name=&quot;viewport&quot; content=&quot;width=device-width,\n",
       "                initial-scale=1.0, maximum-scale=1.0, user-scalable=no&quot; /&gt;\n",
       "            &lt;style&gt;\n",
       "                #map_3abc93d7b03b2d24a2c015495bfcbd8f {\n",
       "                    position: relative;\n",
       "                    width: 100.0%;\n",
       "                    height: 100.0%;\n",
       "                    left: 0.0%;\n",
       "                    top: 0.0%;\n",
       "                }\n",
       "                .leaflet-container { font-size: 1rem; }\n",
       "            &lt;/style&gt;\n",
       "        \n",
       "&lt;/head&gt;\n",
       "&lt;body&gt;\n",
       "    \n",
       "    \n",
       "            &lt;div class=&quot;folium-map&quot; id=&quot;map_3abc93d7b03b2d24a2c015495bfcbd8f&quot; &gt;&lt;/div&gt;\n",
       "        \n",
       "&lt;/body&gt;\n",
       "&lt;script&gt;\n",
       "    \n",
       "    \n",
       "            var map_3abc93d7b03b2d24a2c015495bfcbd8f = L.map(\n",
       "                &quot;map_3abc93d7b03b2d24a2c015495bfcbd8f&quot;,\n",
       "                {\n",
       "                    center: [36.11629999166666, 127.70124968750004],\n",
       "                    crs: L.CRS.EPSG3857,\n",
       "                    zoom: 4,\n",
       "                    zoomControl: true,\n",
       "                    preferCanvas: false,\n",
       "                }\n",
       "            );\n",
       "\n",
       "            \n",
       "\n",
       "        \n",
       "    \n",
       "            var tile_layer_d84e421335ab198fac0ff5b8fd4d416b = L.tileLayer(\n",
       "                &quot;https://{s}.tile.openstreetmap.org/{z}/{x}/{y}.png&quot;,\n",
       "                {&quot;attribution&quot;: &quot;Data by \\u0026copy; \\u003ca target=\\&quot;_blank\\&quot; href=\\&quot;http://openstreetmap.org\\&quot;\\u003eOpenStreetMap\\u003c/a\\u003e, under \\u003ca target=\\&quot;_blank\\&quot; href=\\&quot;http://www.openstreetmap.org/copyright\\&quot;\\u003eODbL\\u003c/a\\u003e.&quot;, &quot;detectRetina&quot;: false, &quot;maxNativeZoom&quot;: 18, &quot;maxZoom&quot;: 18, &quot;minZoom&quot;: 0, &quot;noWrap&quot;: false, &quot;opacity&quot;: 1, &quot;subdomains&quot;: &quot;abc&quot;, &quot;tms&quot;: false}\n",
       "            ).addTo(map_3abc93d7b03b2d24a2c015495bfcbd8f);\n",
       "        \n",
       "    \n",
       "            var marker_ee58eef4ad456ac30b78b97cc8244bb3 = L.marker(\n",
       "                [37.55724163, 126.9871252],\n",
       "                {&quot;name&quot;: &quot;demand points&quot;}\n",
       "            ).addTo(map_3abc93d7b03b2d24a2c015495bfcbd8f);\n",
       "        \n",
       "    \n",
       "            var icon_8c6fdfc12bab238de9a224e12253d52c = L.AwesomeMarkers.icon(\n",
       "                {&quot;extraClasses&quot;: &quot;fa-rotate-0&quot;, &quot;icon&quot;: &quot;home&quot;, &quot;iconColor&quot;: &quot;white&quot;, &quot;markerColor&quot;: &quot;blue&quot;, &quot;prefix&quot;: &quot;glyphicon&quot;}\n",
       "            );\n",
       "            marker_ee58eef4ad456ac30b78b97cc8244bb3.setIcon(icon_8c6fdfc12bab238de9a224e12253d52c);\n",
       "        \n",
       "    \n",
       "            var marker_0c0d9f35d227792d08d63a84d395f449 = L.marker(\n",
       "                [35.16218448, 129.054632],\n",
       "                {&quot;name&quot;: &quot;demand points&quot;}\n",
       "            ).addTo(map_3abc93d7b03b2d24a2c015495bfcbd8f);\n",
       "        \n",
       "    \n",
       "            var icon_2d3df2c45a56d43422a9c3bad57db606 = L.AwesomeMarkers.icon(\n",
       "                {&quot;extraClasses&quot;: &quot;fa-rotate-0&quot;, &quot;icon&quot;: &quot;home&quot;, &quot;iconColor&quot;: &quot;white&quot;, &quot;markerColor&quot;: &quot;blue&quot;, &quot;prefix&quot;: &quot;glyphicon&quot;}\n",
       "            );\n",
       "            marker_0c0d9f35d227792d08d63a84d395f449.setIcon(icon_2d3df2c45a56d43422a9c3bad57db606);\n",
       "        \n",
       "    \n",
       "            var marker_d41311e27046aeba4cd6c5724a0b1e99 = L.marker(\n",
       "                [35.85547861, 128.5793766],\n",
       "                {&quot;name&quot;: &quot;demand points&quot;}\n",
       "            ).addTo(map_3abc93d7b03b2d24a2c015495bfcbd8f);\n",
       "        \n",
       "    \n",
       "            var icon_5775ce661fc1187277fe70c4e6fcec3c = L.AwesomeMarkers.icon(\n",
       "                {&quot;extraClasses&quot;: &quot;fa-rotate-0&quot;, &quot;icon&quot;: &quot;home&quot;, &quot;iconColor&quot;: &quot;white&quot;, &quot;markerColor&quot;: &quot;blue&quot;, &quot;prefix&quot;: &quot;glyphicon&quot;}\n",
       "            );\n",
       "            marker_d41311e27046aeba4cd6c5724a0b1e99.setIcon(icon_5775ce661fc1187277fe70c4e6fcec3c);\n",
       "        \n",
       "    \n",
       "            var marker_8df29322e2beeeeaec1ef748e08ad6c4 = L.marker(\n",
       "                [37.46044164, 126.7004407],\n",
       "                {&quot;name&quot;: &quot;demand points&quot;}\n",
       "            ).addTo(map_3abc93d7b03b2d24a2c015495bfcbd8f);\n",
       "        \n",
       "    \n",
       "            var icon_5eb3eb25c146d6d850beac7b3ec2e431 = L.AwesomeMarkers.icon(\n",
       "                {&quot;extraClasses&quot;: &quot;fa-rotate-0&quot;, &quot;icon&quot;: &quot;home&quot;, &quot;iconColor&quot;: &quot;white&quot;, &quot;markerColor&quot;: &quot;blue&quot;, &quot;prefix&quot;: &quot;glyphicon&quot;}\n",
       "            );\n",
       "            marker_8df29322e2beeeeaec1ef748e08ad6c4.setIcon(icon_5eb3eb25c146d6d850beac7b3ec2e431);\n",
       "        \n",
       "    \n",
       "            var marker_f1f21ac23fe27ede3935593f769d2101 = L.marker(\n",
       "                [35.1481661, 126.8521798],\n",
       "                {&quot;name&quot;: &quot;demand points&quot;}\n",
       "            ).addTo(map_3abc93d7b03b2d24a2c015495bfcbd8f);\n",
       "        \n",
       "    \n",
       "            var icon_6c7f381446e05e66b1233653259ba7e3 = L.AwesomeMarkers.icon(\n",
       "                {&quot;extraClasses&quot;: &quot;fa-rotate-0&quot;, &quot;icon&quot;: &quot;home&quot;, &quot;iconColor&quot;: &quot;white&quot;, &quot;markerColor&quot;: &quot;blue&quot;, &quot;prefix&quot;: &quot;glyphicon&quot;}\n",
       "            );\n",
       "            marker_f1f21ac23fe27ede3935593f769d2101.setIcon(icon_6c7f381446e05e66b1233653259ba7e3);\n",
       "        \n",
       "    \n",
       "            var marker_31439d93ba874d24689a6c993dffbd95 = L.marker(\n",
       "                [36.34082679, 127.3987915],\n",
       "                {&quot;name&quot;: &quot;demand points&quot;}\n",
       "            ).addTo(map_3abc93d7b03b2d24a2c015495bfcbd8f);\n",
       "        \n",
       "    \n",
       "            var icon_d91a93592acb0a60f7584957f1798ad6 = L.AwesomeMarkers.icon(\n",
       "                {&quot;extraClasses&quot;: &quot;fa-rotate-0&quot;, &quot;icon&quot;: &quot;home&quot;, &quot;iconColor&quot;: &quot;white&quot;, &quot;markerColor&quot;: &quot;blue&quot;, &quot;prefix&quot;: &quot;glyphicon&quot;}\n",
       "            );\n",
       "            marker_31439d93ba874d24689a6c993dffbd95.setIcon(icon_d91a93592acb0a60f7584957f1798ad6);\n",
       "        \n",
       "    \n",
       "            var marker_76e5fbad34b59e8d8eea02b74058cab5 = L.marker(\n",
       "                [35.5470358, 129.2569736],\n",
       "                {&quot;name&quot;: &quot;demand points&quot;}\n",
       "            ).addTo(map_3abc93d7b03b2d24a2c015495bfcbd8f);\n",
       "        \n",
       "    \n",
       "            var icon_cdd9bdf03e93ee2a6a5ca4825308ad9b = L.AwesomeMarkers.icon(\n",
       "                {&quot;extraClasses&quot;: &quot;fa-rotate-0&quot;, &quot;icon&quot;: &quot;home&quot;, &quot;iconColor&quot;: &quot;white&quot;, &quot;markerColor&quot;: &quot;blue&quot;, &quot;prefix&quot;: &quot;glyphicon&quot;}\n",
       "            );\n",
       "            marker_76e5fbad34b59e8d8eea02b74058cab5.setIcon(icon_cdd9bdf03e93ee2a6a5ca4825308ad9b);\n",
       "        \n",
       "    \n",
       "            var marker_37d042ca63c58c695527ab4a615c1a82 = L.marker(\n",
       "                [37.45758953, 127.3429823],\n",
       "                {&quot;name&quot;: &quot;demand points&quot;}\n",
       "            ).addTo(map_3abc93d7b03b2d24a2c015495bfcbd8f);\n",
       "        \n",
       "    \n",
       "            var icon_cb247ab9c458631987be7812d88a094e = L.AwesomeMarkers.icon(\n",
       "                {&quot;extraClasses&quot;: &quot;fa-rotate-0&quot;, &quot;icon&quot;: &quot;home&quot;, &quot;iconColor&quot;: &quot;white&quot;, &quot;markerColor&quot;: &quot;blue&quot;, &quot;prefix&quot;: &quot;glyphicon&quot;}\n",
       "            );\n",
       "            marker_37d042ca63c58c695527ab4a615c1a82.setIcon(icon_cb247ab9c458631987be7812d88a094e);\n",
       "        \n",
       "    \n",
       "            var marker_3da163f913485887845211c3d815a717 = L.marker(\n",
       "                [37.8087934, 128.2723599],\n",
       "                {&quot;name&quot;: &quot;demand points&quot;}\n",
       "            ).addTo(map_3abc93d7b03b2d24a2c015495bfcbd8f);\n",
       "        \n",
       "    \n",
       "            var icon_58c5939440e90e89f11acc783b1f68ca = L.AwesomeMarkers.icon(\n",
       "                {&quot;extraClasses&quot;: &quot;fa-rotate-0&quot;, &quot;icon&quot;: &quot;home&quot;, &quot;iconColor&quot;: &quot;white&quot;, &quot;markerColor&quot;: &quot;blue&quot;, &quot;prefix&quot;: &quot;glyphicon&quot;}\n",
       "            );\n",
       "            marker_3da163f913485887845211c3d815a717.setIcon(icon_58c5939440e90e89f11acc783b1f68ca);\n",
       "        \n",
       "    \n",
       "            var marker_c56af92fed948721588a85d1669241d6 = L.marker(\n",
       "                [36.76601606, 127.7690261],\n",
       "                {&quot;name&quot;: &quot;demand points&quot;}\n",
       "            ).addTo(map_3abc93d7b03b2d24a2c015495bfcbd8f);\n",
       "        \n",
       "    \n",
       "            var icon_4efe616d6fc8b1f63cbb36a35148efa9 = L.AwesomeMarkers.icon(\n",
       "                {&quot;extraClasses&quot;: &quot;fa-rotate-0&quot;, &quot;icon&quot;: &quot;home&quot;, &quot;iconColor&quot;: &quot;white&quot;, &quot;markerColor&quot;: &quot;blue&quot;, &quot;prefix&quot;: &quot;glyphicon&quot;}\n",
       "            );\n",
       "            marker_c56af92fed948721588a85d1669241d6.setIcon(icon_4efe616d6fc8b1f63cbb36a35148efa9);\n",
       "        \n",
       "    \n",
       "            var marker_56312cb4a271c8fea76d321c975aabe3 = L.marker(\n",
       "                [36.54486254, 126.9145592],\n",
       "                {&quot;name&quot;: &quot;demand points&quot;}\n",
       "            ).addTo(map_3abc93d7b03b2d24a2c015495bfcbd8f);\n",
       "        \n",
       "    \n",
       "            var icon_8c6838049338c957e12f812549187174 = L.AwesomeMarkers.icon(\n",
       "                {&quot;extraClasses&quot;: &quot;fa-rotate-0&quot;, &quot;icon&quot;: &quot;home&quot;, &quot;iconColor&quot;: &quot;white&quot;, &quot;markerColor&quot;: &quot;blue&quot;, &quot;prefix&quot;: &quot;glyphicon&quot;}\n",
       "            );\n",
       "            marker_56312cb4a271c8fea76d321c975aabe3.setIcon(icon_8c6838049338c957e12f812549187174);\n",
       "        \n",
       "    \n",
       "            var marker_c860ba7284e32149755de94089bb79aa = L.marker(\n",
       "                [35.73520285, 127.1688519],\n",
       "                {&quot;name&quot;: &quot;demand points&quot;}\n",
       "            ).addTo(map_3abc93d7b03b2d24a2c015495bfcbd8f);\n",
       "        \n",
       "    \n",
       "            var icon_b26241569f137563a7c06999eb3a9a4f = L.AwesomeMarkers.icon(\n",
       "                {&quot;extraClasses&quot;: &quot;fa-rotate-0&quot;, &quot;icon&quot;: &quot;home&quot;, &quot;iconColor&quot;: &quot;white&quot;, &quot;markerColor&quot;: &quot;blue&quot;, &quot;prefix&quot;: &quot;glyphicon&quot;}\n",
       "            );\n",
       "            marker_c860ba7284e32149755de94089bb79aa.setIcon(icon_b26241569f137563a7c06999eb3a9a4f);\n",
       "        \n",
       "    \n",
       "            var marker_2d5fa13bb04f73477371fc2884ad2b68 = L.marker(\n",
       "                [34.87756336, 126.9620679],\n",
       "                {&quot;name&quot;: &quot;demand points&quot;}\n",
       "            ).addTo(map_3abc93d7b03b2d24a2c015495bfcbd8f);\n",
       "        \n",
       "    \n",
       "            var icon_9eb8af1229fa7514bd5020fc8cdfcd73 = L.AwesomeMarkers.icon(\n",
       "                {&quot;extraClasses&quot;: &quot;fa-rotate-0&quot;, &quot;icon&quot;: &quot;home&quot;, &quot;iconColor&quot;: &quot;white&quot;, &quot;markerColor&quot;: &quot;blue&quot;, &quot;prefix&quot;: &quot;glyphicon&quot;}\n",
       "            );\n",
       "            marker_2d5fa13bb04f73477371fc2884ad2b68.setIcon(icon_9eb8af1229fa7514bd5020fc8cdfcd73);\n",
       "        \n",
       "    \n",
       "            var marker_150b31e69d7fc86e0732ea0dc4d1c174 = L.marker(\n",
       "                [36.16849991, 128.987314],\n",
       "                {&quot;name&quot;: &quot;demand points&quot;}\n",
       "            ).addTo(map_3abc93d7b03b2d24a2c015495bfcbd8f);\n",
       "        \n",
       "    \n",
       "            var icon_17d2f61c883dbfe3715ae08b002d85fa = L.AwesomeMarkers.icon(\n",
       "                {&quot;extraClasses&quot;: &quot;fa-rotate-0&quot;, &quot;icon&quot;: &quot;home&quot;, &quot;iconColor&quot;: &quot;white&quot;, &quot;markerColor&quot;: &quot;blue&quot;, &quot;prefix&quot;: &quot;glyphicon&quot;}\n",
       "            );\n",
       "            marker_150b31e69d7fc86e0732ea0dc4d1c174.setIcon(icon_17d2f61c883dbfe3715ae08b002d85fa);\n",
       "        \n",
       "    \n",
       "            var marker_97504931e815e229249d6ce097215a09 = L.marker(\n",
       "                [35.36637585, 128.2590894],\n",
       "                {&quot;name&quot;: &quot;demand points&quot;}\n",
       "            ).addTo(map_3abc93d7b03b2d24a2c015495bfcbd8f);\n",
       "        \n",
       "    \n",
       "            var icon_e45a40c7c596735345c2a05d2df89955 = L.AwesomeMarkers.icon(\n",
       "                {&quot;extraClasses&quot;: &quot;fa-rotate-0&quot;, &quot;icon&quot;: &quot;home&quot;, &quot;iconColor&quot;: &quot;white&quot;, &quot;markerColor&quot;: &quot;blue&quot;, &quot;prefix&quot;: &quot;glyphicon&quot;}\n",
       "            );\n",
       "            marker_97504931e815e229249d6ce097215a09.setIcon(icon_e45a40c7c596735345c2a05d2df89955);\n",
       "        \n",
       "    \n",
       "            var marker_8b4cc968dae71df342400fe495a6da4d = L.marker(\n",
       "                [33.38684247, 126.5548156],\n",
       "                {&quot;name&quot;: &quot;demand points&quot;}\n",
       "            ).addTo(map_3abc93d7b03b2d24a2c015495bfcbd8f);\n",
       "        \n",
       "    \n",
       "            var icon_b64f1cee66647ef961cbecc0e8fd4851 = L.AwesomeMarkers.icon(\n",
       "                {&quot;extraClasses&quot;: &quot;fa-rotate-0&quot;, &quot;icon&quot;: &quot;home&quot;, &quot;iconColor&quot;: &quot;white&quot;, &quot;markerColor&quot;: &quot;blue&quot;, &quot;prefix&quot;: &quot;glyphicon&quot;}\n",
       "            );\n",
       "            marker_8b4cc968dae71df342400fe495a6da4d.setIcon(icon_b64f1cee66647ef961cbecc0e8fd4851);\n",
       "        \n",
       "    \n",
       "            var marker_94d85b0e14ad6cf1d22c34755945326d = L.marker(\n",
       "                [36.51783299, 127.2853503],\n",
       "                {&quot;name&quot;: &quot;demand points&quot;}\n",
       "            ).addTo(map_3abc93d7b03b2d24a2c015495bfcbd8f);\n",
       "        \n",
       "    \n",
       "            var icon_0c59643c4fa8986a2b4db568bfad67d9 = L.AwesomeMarkers.icon(\n",
       "                {&quot;extraClasses&quot;: &quot;fa-rotate-0&quot;, &quot;icon&quot;: &quot;home&quot;, &quot;iconColor&quot;: &quot;white&quot;, &quot;markerColor&quot;: &quot;blue&quot;, &quot;prefix&quot;: &quot;glyphicon&quot;}\n",
       "            );\n",
       "            marker_94d85b0e14ad6cf1d22c34755945326d.setIcon(icon_0c59643c4fa8986a2b4db568bfad67d9);\n",
       "        \n",
       "    \n",
       "            var marker_727a3efde866aa88b594a48468fdf9ae = L.marker(\n",
       "                [35.31962956, 126.7547121],\n",
       "                {&quot;name&quot;: &quot;supply points&quot;}\n",
       "            ).addTo(map_3abc93d7b03b2d24a2c015495bfcbd8f);\n",
       "        \n",
       "    \n",
       "            var icon_405ecd73e6d9c8fbeef5f25b78a8b53b = L.AwesomeMarkers.icon(\n",
       "                {&quot;extraClasses&quot;: &quot;fa-rotate-0&quot;, &quot;icon&quot;: &quot;star&quot;, &quot;iconColor&quot;: &quot;white&quot;, &quot;markerColor&quot;: &quot;red&quot;, &quot;prefix&quot;: &quot;glyphicon&quot;}\n",
       "            );\n",
       "            marker_727a3efde866aa88b594a48468fdf9ae.setIcon(icon_405ecd73e6d9c8fbeef5f25b78a8b53b);\n",
       "        \n",
       "    \n",
       "            var marker_aa519588116ec2ebfe5f0811cca2e94f = L.marker(\n",
       "                [35.31146477, 129.0163972],\n",
       "                {&quot;name&quot;: &quot;supply points&quot;}\n",
       "            ).addTo(map_3abc93d7b03b2d24a2c015495bfcbd8f);\n",
       "        \n",
       "    \n",
       "            var icon_5d328c6cc0e9ab0bf73b921e527f887c = L.AwesomeMarkers.icon(\n",
       "                {&quot;extraClasses&quot;: &quot;fa-rotate-0&quot;, &quot;icon&quot;: &quot;star&quot;, &quot;iconColor&quot;: &quot;white&quot;, &quot;markerColor&quot;: &quot;red&quot;, &quot;prefix&quot;: &quot;glyphicon&quot;}\n",
       "            );\n",
       "            marker_aa519588116ec2ebfe5f0811cca2e94f.setIcon(icon_5d328c6cc0e9ab0bf73b921e527f887c);\n",
       "        \n",
       "    \n",
       "            var marker_f85749fa8fc3bc9bb591642ac5282ff9 = L.marker(\n",
       "                [37.33105702, 126.9375047],\n",
       "                {&quot;name&quot;: &quot;supply points&quot;}\n",
       "            ).addTo(map_3abc93d7b03b2d24a2c015495bfcbd8f);\n",
       "        \n",
       "    \n",
       "            var icon_6cb1f2e3ecba75f395d110c803b7a72b = L.AwesomeMarkers.icon(\n",
       "                {&quot;extraClasses&quot;: &quot;fa-rotate-0&quot;, &quot;icon&quot;: &quot;star&quot;, &quot;iconColor&quot;: &quot;white&quot;, &quot;markerColor&quot;: &quot;red&quot;, &quot;prefix&quot;: &quot;glyphicon&quot;}\n",
       "            );\n",
       "            marker_f85749fa8fc3bc9bb591642ac5282ff9.setIcon(icon_6cb1f2e3ecba75f395d110c803b7a72b);\n",
       "        \n",
       "    \n",
       "            var marker_cbb36aaafe8b86be25fb1c63c4559d3f = L.marker(\n",
       "                [35.95864057, 128.4494975],\n",
       "                {&quot;name&quot;: &quot;supply points&quot;}\n",
       "            ).addTo(map_3abc93d7b03b2d24a2c015495bfcbd8f);\n",
       "        \n",
       "    \n",
       "            var icon_8a96595dfe8825d9f0e6658244ef76d3 = L.AwesomeMarkers.icon(\n",
       "                {&quot;extraClasses&quot;: &quot;fa-rotate-0&quot;, &quot;icon&quot;: &quot;star&quot;, &quot;iconColor&quot;: &quot;white&quot;, &quot;markerColor&quot;: &quot;red&quot;, &quot;prefix&quot;: &quot;glyphicon&quot;}\n",
       "            );\n",
       "            marker_cbb36aaafe8b86be25fb1c63c4559d3f.setIcon(icon_8a96595dfe8825d9f0e6658244ef76d3);\n",
       "        \n",
       "    \n",
       "            var marker_c6808c089a3f4175f9d71c6d62b384ee = L.marker(\n",
       "                [36.54418765, 127.3568226],\n",
       "                {&quot;name&quot;: &quot;supply points&quot;}\n",
       "            ).addTo(map_3abc93d7b03b2d24a2c015495bfcbd8f);\n",
       "        \n",
       "    \n",
       "            var icon_c1ea1ee569502c40c1e18f29183258a7 = L.AwesomeMarkers.icon(\n",
       "                {&quot;extraClasses&quot;: &quot;fa-rotate-0&quot;, &quot;icon&quot;: &quot;star&quot;, &quot;iconColor&quot;: &quot;white&quot;, &quot;markerColor&quot;: &quot;red&quot;, &quot;prefix&quot;: &quot;glyphicon&quot;}\n",
       "            );\n",
       "            marker_c6808c089a3f4175f9d71c6d62b384ee.setIcon(icon_c1ea1ee569502c40c1e18f29183258a7);\n",
       "        \n",
       "    \n",
       "            var marker_590b644bf24112256b5899aa79d1d082 = L.marker(\n",
       "                [37.330421, 126.958047],\n",
       "                {&quot;name&quot;: &quot;supply points&quot;}\n",
       "            ).addTo(map_3abc93d7b03b2d24a2c015495bfcbd8f);\n",
       "        \n",
       "    \n",
       "            var icon_9b87ecd10156f5ead11c5c1bc3a75252 = L.AwesomeMarkers.icon(\n",
       "                {&quot;extraClasses&quot;: &quot;fa-rotate-0&quot;, &quot;icon&quot;: &quot;star&quot;, &quot;iconColor&quot;: &quot;white&quot;, &quot;markerColor&quot;: &quot;red&quot;, &quot;prefix&quot;: &quot;glyphicon&quot;}\n",
       "            );\n",
       "            marker_590b644bf24112256b5899aa79d1d082.setIcon(icon_9b87ecd10156f5ead11c5c1bc3a75252);\n",
       "        \n",
       "    \n",
       "            var marker_2f68115d726df8b49f7ea2330fd6ce8e = L.marker(\n",
       "                [35.29484522, 129.0110754],\n",
       "                {&quot;name&quot;: &quot;supply points&quot;}\n",
       "            ).addTo(map_3abc93d7b03b2d24a2c015495bfcbd8f);\n",
       "        \n",
       "    \n",
       "            var icon_3b49ab81424a40ac7bb7ab77fd640a54 = L.AwesomeMarkers.icon(\n",
       "                {&quot;extraClasses&quot;: &quot;fa-rotate-0&quot;, &quot;icon&quot;: &quot;star&quot;, &quot;iconColor&quot;: &quot;white&quot;, &quot;markerColor&quot;: &quot;red&quot;, &quot;prefix&quot;: &quot;glyphicon&quot;}\n",
       "            );\n",
       "            marker_2f68115d726df8b49f7ea2330fd6ce8e.setIcon(icon_3b49ab81424a40ac7bb7ab77fd640a54);\n",
       "        \n",
       "    \n",
       "            var marker_488886861b7e939e7daeb29f5b0dccc6 = L.marker(\n",
       "                [36.54418765, 127.3568226],\n",
       "                {}\n",
       "            ).addTo(map_3abc93d7b03b2d24a2c015495bfcbd8f);\n",
       "        \n",
       "    \n",
       "            var icon_61a772f7222dfd9460213c76976bf370 = L.AwesomeMarkers.icon(\n",
       "                {&quot;extraClasses&quot;: &quot;fa-rotate-0&quot;, &quot;icon&quot;: &quot;bookmark&quot;, &quot;iconColor&quot;: &quot;white&quot;, &quot;markerColor&quot;: &quot;green&quot;, &quot;prefix&quot;: &quot;glyphicon&quot;}\n",
       "            );\n",
       "            marker_488886861b7e939e7daeb29f5b0dccc6.setIcon(icon_61a772f7222dfd9460213c76976bf370);\n",
       "        \n",
       "    \n",
       "            var marker_f761368547789c070ea9693a6018514d = L.marker(\n",
       "                [37.55724163, 126.9871252],\n",
       "                {}\n",
       "            ).addTo(map_3abc93d7b03b2d24a2c015495bfcbd8f);\n",
       "        \n",
       "    \n",
       "            var icon_c9c1ef9feb8b3439b1840c0ac1f45e20 = L.AwesomeMarkers.icon(\n",
       "                {&quot;extraClasses&quot;: &quot;fa-rotate-0&quot;, &quot;icon&quot;: &quot;info-sign&quot;, &quot;iconColor&quot;: &quot;white&quot;, &quot;markerColor&quot;: &quot;gray&quot;, &quot;prefix&quot;: &quot;glyphicon&quot;}\n",
       "            );\n",
       "            marker_f761368547789c070ea9693a6018514d.setIcon(icon_c9c1ef9feb8b3439b1840c0ac1f45e20);\n",
       "        \n",
       "    \n",
       "            var marker_cb9d299ad0d08f41c629bbbac4dc96a5 = L.marker(\n",
       "                [35.16218448, 129.054632],\n",
       "                {}\n",
       "            ).addTo(map_3abc93d7b03b2d24a2c015495bfcbd8f);\n",
       "        \n",
       "    \n",
       "            var icon_392c557152ea331a014b0eee93865334 = L.AwesomeMarkers.icon(\n",
       "                {&quot;extraClasses&quot;: &quot;fa-rotate-0&quot;, &quot;icon&quot;: &quot;info-sign&quot;, &quot;iconColor&quot;: &quot;white&quot;, &quot;markerColor&quot;: &quot;gray&quot;, &quot;prefix&quot;: &quot;glyphicon&quot;}\n",
       "            );\n",
       "            marker_cb9d299ad0d08f41c629bbbac4dc96a5.setIcon(icon_392c557152ea331a014b0eee93865334);\n",
       "        \n",
       "    \n",
       "            var marker_2a97dca22b3f00705c952884d60f7fc3 = L.marker(\n",
       "                [35.85547861, 128.5793766],\n",
       "                {}\n",
       "            ).addTo(map_3abc93d7b03b2d24a2c015495bfcbd8f);\n",
       "        \n",
       "    \n",
       "            var icon_14b3e15244aaf9e12b881f023a0d1e3d = L.AwesomeMarkers.icon(\n",
       "                {&quot;extraClasses&quot;: &quot;fa-rotate-0&quot;, &quot;icon&quot;: &quot;info-sign&quot;, &quot;iconColor&quot;: &quot;white&quot;, &quot;markerColor&quot;: &quot;gray&quot;, &quot;prefix&quot;: &quot;glyphicon&quot;}\n",
       "            );\n",
       "            marker_2a97dca22b3f00705c952884d60f7fc3.setIcon(icon_14b3e15244aaf9e12b881f023a0d1e3d);\n",
       "        \n",
       "    \n",
       "            var marker_aae80b30f1e87b3b5fd1604d945db598 = L.marker(\n",
       "                [37.46044164, 126.7004407],\n",
       "                {}\n",
       "            ).addTo(map_3abc93d7b03b2d24a2c015495bfcbd8f);\n",
       "        \n",
       "    \n",
       "            var icon_fabd594e114fee3af6e0c0e8a99f6865 = L.AwesomeMarkers.icon(\n",
       "                {&quot;extraClasses&quot;: &quot;fa-rotate-0&quot;, &quot;icon&quot;: &quot;info-sign&quot;, &quot;iconColor&quot;: &quot;white&quot;, &quot;markerColor&quot;: &quot;gray&quot;, &quot;prefix&quot;: &quot;glyphicon&quot;}\n",
       "            );\n",
       "            marker_aae80b30f1e87b3b5fd1604d945db598.setIcon(icon_fabd594e114fee3af6e0c0e8a99f6865);\n",
       "        \n",
       "    \n",
       "            var marker_b6c7f8a02e9ba77dbb4e3b4f3f071291 = L.marker(\n",
       "                [35.1481661, 126.8521798],\n",
       "                {}\n",
       "            ).addTo(map_3abc93d7b03b2d24a2c015495bfcbd8f);\n",
       "        \n",
       "    \n",
       "            var icon_2a3b89b022ad09b25394d7fcd59dfdc5 = L.AwesomeMarkers.icon(\n",
       "                {&quot;extraClasses&quot;: &quot;fa-rotate-0&quot;, &quot;icon&quot;: &quot;info-sign&quot;, &quot;iconColor&quot;: &quot;white&quot;, &quot;markerColor&quot;: &quot;gray&quot;, &quot;prefix&quot;: &quot;glyphicon&quot;}\n",
       "            );\n",
       "            marker_b6c7f8a02e9ba77dbb4e3b4f3f071291.setIcon(icon_2a3b89b022ad09b25394d7fcd59dfdc5);\n",
       "        \n",
       "    \n",
       "            var marker_afa071881d963694b5a06e0bec7923f1 = L.marker(\n",
       "                [36.34082679, 127.3987915],\n",
       "                {}\n",
       "            ).addTo(map_3abc93d7b03b2d24a2c015495bfcbd8f);\n",
       "        \n",
       "    \n",
       "            var icon_b7267bf55673f74bbb4c6dab3f46293c = L.AwesomeMarkers.icon(\n",
       "                {&quot;extraClasses&quot;: &quot;fa-rotate-0&quot;, &quot;icon&quot;: &quot;info-sign&quot;, &quot;iconColor&quot;: &quot;white&quot;, &quot;markerColor&quot;: &quot;gray&quot;, &quot;prefix&quot;: &quot;glyphicon&quot;}\n",
       "            );\n",
       "            marker_afa071881d963694b5a06e0bec7923f1.setIcon(icon_b7267bf55673f74bbb4c6dab3f46293c);\n",
       "        \n",
       "    \n",
       "            var marker_5886807d8e3f4b7d178d3a3654b56d81 = L.marker(\n",
       "                [35.5470358, 129.2569736],\n",
       "                {}\n",
       "            ).addTo(map_3abc93d7b03b2d24a2c015495bfcbd8f);\n",
       "        \n",
       "    \n",
       "            var icon_807055efe3c1c70e59759749fb41ad1e = L.AwesomeMarkers.icon(\n",
       "                {&quot;extraClasses&quot;: &quot;fa-rotate-0&quot;, &quot;icon&quot;: &quot;info-sign&quot;, &quot;iconColor&quot;: &quot;white&quot;, &quot;markerColor&quot;: &quot;gray&quot;, &quot;prefix&quot;: &quot;glyphicon&quot;}\n",
       "            );\n",
       "            marker_5886807d8e3f4b7d178d3a3654b56d81.setIcon(icon_807055efe3c1c70e59759749fb41ad1e);\n",
       "        \n",
       "    \n",
       "            var marker_b64b0901378f300442f81dacd8178022 = L.marker(\n",
       "                [37.45758953, 127.3429823],\n",
       "                {}\n",
       "            ).addTo(map_3abc93d7b03b2d24a2c015495bfcbd8f);\n",
       "        \n",
       "    \n",
       "            var icon_c2f115245144e047242dad5772b7e286 = L.AwesomeMarkers.icon(\n",
       "                {&quot;extraClasses&quot;: &quot;fa-rotate-0&quot;, &quot;icon&quot;: &quot;info-sign&quot;, &quot;iconColor&quot;: &quot;white&quot;, &quot;markerColor&quot;: &quot;gray&quot;, &quot;prefix&quot;: &quot;glyphicon&quot;}\n",
       "            );\n",
       "            marker_b64b0901378f300442f81dacd8178022.setIcon(icon_c2f115245144e047242dad5772b7e286);\n",
       "        \n",
       "    \n",
       "            var marker_340f78b3cf6ed2b6d2ae592a93d78de6 = L.marker(\n",
       "                [36.76601606, 127.7690261],\n",
       "                {}\n",
       "            ).addTo(map_3abc93d7b03b2d24a2c015495bfcbd8f);\n",
       "        \n",
       "    \n",
       "            var icon_810a3bbdb8e11be76c73c7a1d9c21632 = L.AwesomeMarkers.icon(\n",
       "                {&quot;extraClasses&quot;: &quot;fa-rotate-0&quot;, &quot;icon&quot;: &quot;info-sign&quot;, &quot;iconColor&quot;: &quot;white&quot;, &quot;markerColor&quot;: &quot;gray&quot;, &quot;prefix&quot;: &quot;glyphicon&quot;}\n",
       "            );\n",
       "            marker_340f78b3cf6ed2b6d2ae592a93d78de6.setIcon(icon_810a3bbdb8e11be76c73c7a1d9c21632);\n",
       "        \n",
       "    \n",
       "            var marker_71d9d43c2cbc1d636608c4be599ab88e = L.marker(\n",
       "                [36.54486254, 126.9145592],\n",
       "                {}\n",
       "            ).addTo(map_3abc93d7b03b2d24a2c015495bfcbd8f);\n",
       "        \n",
       "    \n",
       "            var icon_56ee35a014769b4556b63f824aaa08ba = L.AwesomeMarkers.icon(\n",
       "                {&quot;extraClasses&quot;: &quot;fa-rotate-0&quot;, &quot;icon&quot;: &quot;info-sign&quot;, &quot;iconColor&quot;: &quot;white&quot;, &quot;markerColor&quot;: &quot;gray&quot;, &quot;prefix&quot;: &quot;glyphicon&quot;}\n",
       "            );\n",
       "            marker_71d9d43c2cbc1d636608c4be599ab88e.setIcon(icon_56ee35a014769b4556b63f824aaa08ba);\n",
       "        \n",
       "    \n",
       "            var marker_323783ef76176a472a7e967e45cc7bc1 = L.marker(\n",
       "                [35.73520285, 127.1688519],\n",
       "                {}\n",
       "            ).addTo(map_3abc93d7b03b2d24a2c015495bfcbd8f);\n",
       "        \n",
       "    \n",
       "            var icon_018c470e19dae1cc21200e0560c23fad = L.AwesomeMarkers.icon(\n",
       "                {&quot;extraClasses&quot;: &quot;fa-rotate-0&quot;, &quot;icon&quot;: &quot;info-sign&quot;, &quot;iconColor&quot;: &quot;white&quot;, &quot;markerColor&quot;: &quot;gray&quot;, &quot;prefix&quot;: &quot;glyphicon&quot;}\n",
       "            );\n",
       "            marker_323783ef76176a472a7e967e45cc7bc1.setIcon(icon_018c470e19dae1cc21200e0560c23fad);\n",
       "        \n",
       "    \n",
       "            var marker_ff3eb825c9dfc45c7c4aec1dc30b7637 = L.marker(\n",
       "                [34.87756336, 126.9620679],\n",
       "                {}\n",
       "            ).addTo(map_3abc93d7b03b2d24a2c015495bfcbd8f);\n",
       "        \n",
       "    \n",
       "            var icon_3453ca0dfa3caf84eec9b54a2e5b4592 = L.AwesomeMarkers.icon(\n",
       "                {&quot;extraClasses&quot;: &quot;fa-rotate-0&quot;, &quot;icon&quot;: &quot;info-sign&quot;, &quot;iconColor&quot;: &quot;white&quot;, &quot;markerColor&quot;: &quot;gray&quot;, &quot;prefix&quot;: &quot;glyphicon&quot;}\n",
       "            );\n",
       "            marker_ff3eb825c9dfc45c7c4aec1dc30b7637.setIcon(icon_3453ca0dfa3caf84eec9b54a2e5b4592);\n",
       "        \n",
       "    \n",
       "            var marker_b8261d12c02527760c72e1a4d8426871 = L.marker(\n",
       "                [36.16849991, 128.987314],\n",
       "                {}\n",
       "            ).addTo(map_3abc93d7b03b2d24a2c015495bfcbd8f);\n",
       "        \n",
       "    \n",
       "            var icon_678056f2bff59290a46c567527698340 = L.AwesomeMarkers.icon(\n",
       "                {&quot;extraClasses&quot;: &quot;fa-rotate-0&quot;, &quot;icon&quot;: &quot;info-sign&quot;, &quot;iconColor&quot;: &quot;white&quot;, &quot;markerColor&quot;: &quot;gray&quot;, &quot;prefix&quot;: &quot;glyphicon&quot;}\n",
       "            );\n",
       "            marker_b8261d12c02527760c72e1a4d8426871.setIcon(icon_678056f2bff59290a46c567527698340);\n",
       "        \n",
       "    \n",
       "            var marker_fd07e7be7adecd49766f5e1c018b6ac5 = L.marker(\n",
       "                [35.36637585, 128.2590894],\n",
       "                {}\n",
       "            ).addTo(map_3abc93d7b03b2d24a2c015495bfcbd8f);\n",
       "        \n",
       "    \n",
       "            var icon_6b11d40d6f761692607c948b5cd1563a = L.AwesomeMarkers.icon(\n",
       "                {&quot;extraClasses&quot;: &quot;fa-rotate-0&quot;, &quot;icon&quot;: &quot;info-sign&quot;, &quot;iconColor&quot;: &quot;white&quot;, &quot;markerColor&quot;: &quot;gray&quot;, &quot;prefix&quot;: &quot;glyphicon&quot;}\n",
       "            );\n",
       "            marker_fd07e7be7adecd49766f5e1c018b6ac5.setIcon(icon_6b11d40d6f761692607c948b5cd1563a);\n",
       "        \n",
       "    \n",
       "            var marker_36168bc2e3d364e236541ed900a9a908 = L.marker(\n",
       "                [36.51783299, 127.2853503],\n",
       "                {}\n",
       "            ).addTo(map_3abc93d7b03b2d24a2c015495bfcbd8f);\n",
       "        \n",
       "    \n",
       "            var icon_964fda351526700d8d24f17202d4433a = L.AwesomeMarkers.icon(\n",
       "                {&quot;extraClasses&quot;: &quot;fa-rotate-0&quot;, &quot;icon&quot;: &quot;info-sign&quot;, &quot;iconColor&quot;: &quot;white&quot;, &quot;markerColor&quot;: &quot;gray&quot;, &quot;prefix&quot;: &quot;glyphicon&quot;}\n",
       "            );\n",
       "            marker_36168bc2e3d364e236541ed900a9a908.setIcon(icon_964fda351526700d8d24f17202d4433a);\n",
       "        \n",
       "&lt;/script&gt;\n",
       "&lt;/html&gt;\" style=\"position:absolute;width:100%;height:100%;left:0;top:0;border:none !important;\" allowfullscreen webkitallowfullscreen mozallowfullscreen></iframe></div></div>"
      ],
      "text/plain": [
       "<folium.folium.Map at 0x7fbeaa24f2e0>"
      ]
     },
     "execution_count": 28,
     "metadata": {},
     "output_type": "execute_result"
    }
   ],
   "source": [
    "# Add markers for Closest Supply Point\n",
    "folium.Marker(min_dist_point, icon=folium.Icon(color='green', icon='bookmark')).add_to(m)\n",
    "\n",
    "# Add markers for Maximum Coverage\n",
    "for point in max_coverage_results:\n",
    "    folium.Marker(point, icon=folium.Icon(color='gray', icon='info-sign')).add_to(m)\n",
    "m"
   ]
  },
  {
   "cell_type": "markdown",
   "metadata": {
    "id": "Fe0m5CwLrwCU"
   },
   "source": [
    "##### Question) 강원도를 Cover 하려면 어느만큼의 반경이 필요할까..?"
   ]
  },
  {
   "cell_type": "markdown",
   "metadata": {
    "id": "BeIaQsKpr2id"
   },
   "source": [
    "### END CODE"
   ]
  }
 ],
 "metadata": {
  "colab": {
   "provenance": []
  },
  "kernelspec": {
   "display_name": "Python 3",
   "language": "python",
   "name": "python3"
  },
  "language_info": {
   "codemirror_mode": {
    "name": "ipython",
    "version": 3
   },
   "file_extension": ".py",
   "mimetype": "text/x-python",
   "name": "python",
   "nbconvert_exporter": "python",
   "pygments_lexer": "ipython3",
   "version": "3.7.4"
  }
 },
 "nbformat": 4,
 "nbformat_minor": 1
}
