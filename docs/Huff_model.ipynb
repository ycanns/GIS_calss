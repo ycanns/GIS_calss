{
 "cells": [
  {
   "cell_type": "markdown",
   "id": "cf491190",
   "metadata": {},
   "source": [
    "# 공간분석과 공간통계: 네트워크분석(공간적상호작용 모델)\n",
    "#### 가천대학교 공간정보시스템(14842001) 장요한 (ycanns@gachon.ac.kr)\n",
    "\n",
    "---"
   ]
  },
  {
   "cell_type": "markdown",
   "id": "e2628042",
   "metadata": {},
   "source": [
    "#### 1. Initialization"
   ]
  },
  {
   "cell_type": "code",
   "execution_count": 1,
   "id": "b384e37e",
   "metadata": {},
   "outputs": [
    {
     "name": "stderr",
     "output_type": "stream",
     "text": [
      "C:\\Users\\johny\\AppData\\Local\\Programs\\Python\\Python37\\lib\\site-packages\\numpy\\_distributor_init.py:32: UserWarning: loaded more than 1 DLL from .libs:\n",
      "C:\\Users\\johny\\AppData\\Local\\Programs\\Python\\Python37\\lib\\site-packages\\numpy\\.libs\\libopenblas.PYQHXLVVQ7VESDPUVUADXEVJOBGHJPAY.gfortran-win_amd64.dll\n",
      "C:\\Users\\johny\\AppData\\Local\\Programs\\Python\\Python37\\lib\\site-packages\\numpy\\.libs\\libopenblas.WCDJNK7YVMPZQ2ME2ZZHJJRJ3JIKNDB7.gfortran-win_amd64.dll\n",
      "C:\\Users\\johny\\AppData\\Local\\Programs\\Python\\Python37\\lib\\site-packages\\numpy\\.libs\\libopenblas.XWYDX2IKJW2NMTWSFYNGFUWKQU3LYTCZ.gfortran-win_amd64.dll\n",
      "  stacklevel=1)\n"
     ]
    }
   ],
   "source": [
    "import pandas as pd\n",
    "import matplotlib.pyplot as plt"
   ]
  },
  {
   "cell_type": "markdown",
   "id": "3753e7ed",
   "metadata": {},
   "source": [
    "#### 2. Set Supply and Demand locations"
   ]
  },
  {
   "cell_type": "code",
   "execution_count": 2,
   "id": "ffd8c9e3",
   "metadata": {},
   "outputs": [],
   "source": [
    "# Define store locations and their attractiveness\n",
    "stores = pd.DataFrame({'Store':['A', 'B', 'C'], 'Attractiveness':[0.2, 0.3, 0.5], 'X':[1, 2, 4], 'Y':[1, 3, 2]})\n",
    "\n",
    "# Define customer locations\n",
    "customers = pd.DataFrame({'X':[3, 2], 'Y':[2, 4]})"
   ]
  },
  {
   "cell_type": "markdown",
   "id": "21e529b7",
   "metadata": {},
   "source": [
    "#### 3. Calculate Distances"
   ]
  },
  {
   "cell_type": "code",
   "execution_count": 3,
   "id": "6c6f51ca",
   "metadata": {},
   "outputs": [],
   "source": [
    "# Calculate distance from each customer to each store\n",
    "for store in stores['Store']:\n",
    "    store_x = stores['X']-customers['X']\n",
    "    store_y = stores['Y']-customers['Y']\n",
    "    stores[store+'_Dist'] = ((store_x.values.reshape(-1,1))**2 + (store_y.values.reshape(-1,1))**2)**0.5\n",
    "\n",
    "# Calculate probability of each customer choosing each store\n",
    "for store in stores['Store']:\n",
    "    stores[store+'_Prob'] = stores['Attractiveness']*stores[store+'_Dist'].apply(lambda x: 1/x)\n",
    "    stores[store+'_Prob'] = stores[store+'_Prob']/stores.filter(regex='_Prob').sum(axis=1)"
   ]
  },
  {
   "cell_type": "code",
   "execution_count": 4,
   "id": "e3ad22c3",
   "metadata": {},
   "outputs": [
    {
     "data": {
      "text/html": [
       "<div>\n",
       "<style scoped>\n",
       "    .dataframe tbody tr th:only-of-type {\n",
       "        vertical-align: middle;\n",
       "    }\n",
       "\n",
       "    .dataframe tbody tr th {\n",
       "        vertical-align: top;\n",
       "    }\n",
       "\n",
       "    .dataframe thead th {\n",
       "        text-align: right;\n",
       "    }\n",
       "</style>\n",
       "<table border=\"1\" class=\"dataframe\">\n",
       "  <thead>\n",
       "    <tr style=\"text-align: right;\">\n",
       "      <th></th>\n",
       "      <th>Store</th>\n",
       "      <th>Attractiveness</th>\n",
       "      <th>X</th>\n",
       "      <th>Y</th>\n",
       "      <th>A_Dist</th>\n",
       "      <th>B_Dist</th>\n",
       "      <th>C_Dist</th>\n",
       "      <th>A_Prob</th>\n",
       "      <th>B_Prob</th>\n",
       "      <th>C_Prob</th>\n",
       "    </tr>\n",
       "  </thead>\n",
       "  <tbody>\n",
       "    <tr>\n",
       "      <th>0</th>\n",
       "      <td>A</td>\n",
       "      <td>0.2</td>\n",
       "      <td>1</td>\n",
       "      <td>1</td>\n",
       "      <td>2.236068</td>\n",
       "      <td>2.236068</td>\n",
       "      <td>2.236068</td>\n",
       "      <td>1.0</td>\n",
       "      <td>0.082100</td>\n",
       "      <td>0.076346</td>\n",
       "    </tr>\n",
       "    <tr>\n",
       "      <th>1</th>\n",
       "      <td>B</td>\n",
       "      <td>0.3</td>\n",
       "      <td>2</td>\n",
       "      <td>3</td>\n",
       "      <td>1.000000</td>\n",
       "      <td>1.000000</td>\n",
       "      <td>1.000000</td>\n",
       "      <td>1.0</td>\n",
       "      <td>0.230769</td>\n",
       "      <td>0.195980</td>\n",
       "    </tr>\n",
       "    <tr>\n",
       "      <th>2</th>\n",
       "      <td>C</td>\n",
       "      <td>0.5</td>\n",
       "      <td>4</td>\n",
       "      <td>2</td>\n",
       "      <td>NaN</td>\n",
       "      <td>NaN</td>\n",
       "      <td>NaN</td>\n",
       "      <td>NaN</td>\n",
       "      <td>NaN</td>\n",
       "      <td>NaN</td>\n",
       "    </tr>\n",
       "  </tbody>\n",
       "</table>\n",
       "</div>"
      ],
      "text/plain": [
       "  Store  Attractiveness  X  Y    A_Dist    B_Dist    C_Dist  A_Prob    B_Prob  \\\n",
       "0     A             0.2  1  1  2.236068  2.236068  2.236068     1.0  0.082100   \n",
       "1     B             0.3  2  3  1.000000  1.000000  1.000000     1.0  0.230769   \n",
       "2     C             0.5  4  2       NaN       NaN       NaN     NaN       NaN   \n",
       "\n",
       "     C_Prob  \n",
       "0  0.076346  \n",
       "1  0.195980  \n",
       "2       NaN  "
      ]
     },
     "execution_count": 4,
     "metadata": {},
     "output_type": "execute_result"
    }
   ],
   "source": [
    "stores"
   ]
  },
  {
   "cell_type": "code",
   "execution_count": 5,
   "id": "3b42dc31",
   "metadata": {},
   "outputs": [
    {
     "name": "stdout",
     "output_type": "stream",
     "text": [
      "   A_Prob    B_Prob    C_Prob\n",
      "0     1.0  0.082100  0.076346\n",
      "1     1.0  0.230769  0.195980\n",
      "2     NaN       NaN       NaN\n"
     ]
    }
   ],
   "source": [
    "# Print the probability table\n",
    "print(stores.filter(regex='_Prob'))"
   ]
  },
  {
   "cell_type": "markdown",
   "id": "6b6fa919",
   "metadata": {},
   "source": [
    "#### 4. Visualization"
   ]
  },
  {
   "cell_type": "code",
   "execution_count": 6,
   "id": "3c3d7158",
   "metadata": {},
   "outputs": [
    {
     "data": {
      "image/png": "[encoded data removed]",
      "text/plain": [
       "<Figure size 640x480 with 1 Axes>"
      ]
     },
     "metadata": {},
     "output_type": "display_data"
    }
   ],
   "source": [
    "# Plot the probability for each store\n",
    "fig, ax = plt.subplots()\n",
    "ax.bar(stores['Store'], stores.filter(regex='_Prob').mean(), color='gray')\n",
    "ax.set_ylabel('Probability')\n",
    "ax.set_title('Huff Model Example')\n",
    "plt.show()"
   ]
  },
  {
   "cell_type": "code",
   "execution_count": 7,
   "id": "9aef2b66",
   "metadata": {},
   "outputs": [
    {
     "data": {
      "text/html": [
       "<div>\n",
       "<style scoped>\n",
       "    .dataframe tbody tr th:only-of-type {\n",
       "        vertical-align: middle;\n",
       "    }\n",
       "\n",
       "    .dataframe tbody tr th {\n",
       "        vertical-align: top;\n",
       "    }\n",
       "\n",
       "    .dataframe thead th {\n",
       "        text-align: right;\n",
       "    }\n",
       "</style>\n",
       "<table border=\"1\" class=\"dataframe\">\n",
       "  <thead>\n",
       "    <tr style=\"text-align: right;\">\n",
       "      <th></th>\n",
       "      <th>X</th>\n",
       "      <th>Y</th>\n",
       "    </tr>\n",
       "  </thead>\n",
       "  <tbody>\n",
       "    <tr>\n",
       "      <th>0</th>\n",
       "      <td>3</td>\n",
       "      <td>2</td>\n",
       "    </tr>\n",
       "    <tr>\n",
       "      <th>1</th>\n",
       "      <td>2</td>\n",
       "      <td>4</td>\n",
       "    </tr>\n",
       "  </tbody>\n",
       "</table>\n",
       "</div>"
      ],
      "text/plain": [
       "   X  Y\n",
       "0  3  2\n",
       "1  2  4"
      ]
     },
     "execution_count": 7,
     "metadata": {},
     "output_type": "execute_result"
    }
   ],
   "source": [
    "customers"
   ]
  },
  {
   "cell_type": "markdown",
   "id": "8848b350",
   "metadata": {},
   "source": [
    "#### END CODE"
   ]
  }
 ],
 "metadata": {
  "kernelspec": {
   "display_name": "Python 3 (ipykernel)",
   "language": "python",
   "name": "python3"
  },
  "language_info": {
   "codemirror_mode": {
    "name": "ipython",
    "version": 3
   },
   "file_extension": ".py",
   "mimetype": "text/x-python",
   "name": "python",
   "nbconvert_exporter": "python",
   "pygments_lexer": "ipython3",
   "version": "3.7.7"
  }
 },
 "nbformat": 4,
 "nbformat_minor": 5
}
